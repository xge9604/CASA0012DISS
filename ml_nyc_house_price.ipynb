{
 "cells": [
  {
   "cell_type": "code",
   "execution_count": 1,
   "metadata": {},
   "outputs": [],
   "source": [
    "#######the latest house price data available from: https://www1.nyc.gov/site/finance/taxes/property-rolling-sales-data.page"
   ]
  },
  {
   "cell_type": "markdown",
   "metadata": {},
   "source": [
    "<font size = 6> Data cleaning Step \n",
    "</font>"
   ]
  },
  {
   "cell_type": "code",
   "execution_count": 1,
   "metadata": {},
   "outputs": [],
   "source": [
    "import pandas as pd\n",
    "import numpy as np\n",
    "from matplotlib import pyplot as plt\n",
    "import seaborn as sns\n",
    "%matplotlib inline"
   ]
  },
  {
   "cell_type": "code",
   "execution_count": 2,
   "metadata": {},
   "outputs": [
    {
     "name": "stderr",
     "output_type": "stream",
     "text": [
      "/opt/conda/envs/sds2020/lib/python3.7/site-packages/IPython/core/interactiveshell.py:3146: DtypeWarning: Columns (8,10) have mixed types.Specify dtype option on import or set low_memory=False.\n",
      "  interactivity=interactivity, compiler=compiler, result=result)\n"
     ]
    }
   ],
   "source": [
    "#####loading the data\n",
    "df_raw = pd.read_csv('nyc_new.csv')"
   ]
  },
  {
   "cell_type": "code",
   "execution_count": 3,
   "metadata": {},
   "outputs": [
    {
     "name": "stdout",
     "output_type": "stream",
     "text": [
      "<class 'pandas.core.frame.DataFrame'>\n",
      "RangeIndex: 44825 entries, 0 to 44824\n",
      "Data columns (total 17 columns):\n",
      " #   Column                          Non-Null Count  Dtype \n",
      "---  ------                          --------------  ----- \n",
      " 0   BOROUGH                         44825 non-null  int64 \n",
      " 1   NEIGHBORHOOD                    44825 non-null  object\n",
      " 2   BUILDING CLASS CATEGORY         44825 non-null  object\n",
      " 3   BLOCK                           44825 non-null  int64 \n",
      " 4   LOT                             44825 non-null  int64 \n",
      " 5   BUILDING CLASS AT PRESENT       44825 non-null  object\n",
      " 6   ADDRESS                         44825 non-null  object\n",
      " 7   ZIP CODE                        44825 non-null  int64 \n",
      " 8   RESIDENTIAL UNITS               44825 non-null  object\n",
      " 9   COMMERCIAL UNITS                44825 non-null  int64 \n",
      " 10  TOTAL UNITS                     44825 non-null  object\n",
      " 11  LAND SQUARE FEET                44825 non-null  int64 \n",
      " 12  GROSS SQUARE FEET               44825 non-null  int64 \n",
      " 13  YEAR BUILT                      44825 non-null  int64 \n",
      " 14  BUILDING CLASS AT TIME OF SALE  44825 non-null  object\n",
      " 15  SALE PRICE                      44825 non-null  int64 \n",
      " 16  SALE DATE                       44825 non-null  object\n",
      "dtypes: int64(9), object(8)\n",
      "memory usage: 5.8+ MB\n"
     ]
    },
    {
     "data": {
      "text/html": [
       "<div>\n",
       "<style scoped>\n",
       "    .dataframe tbody tr th:only-of-type {\n",
       "        vertical-align: middle;\n",
       "    }\n",
       "\n",
       "    .dataframe tbody tr th {\n",
       "        vertical-align: top;\n",
       "    }\n",
       "\n",
       "    .dataframe thead th {\n",
       "        text-align: right;\n",
       "    }\n",
       "</style>\n",
       "<table border=\"1\" class=\"dataframe\">\n",
       "  <thead>\n",
       "    <tr style=\"text-align: right;\">\n",
       "      <th></th>\n",
       "      <th>BOROUGH</th>\n",
       "      <th>BLOCK</th>\n",
       "      <th>LOT</th>\n",
       "      <th>ZIP CODE</th>\n",
       "      <th>COMMERCIAL UNITS</th>\n",
       "      <th>LAND SQUARE FEET</th>\n",
       "      <th>GROSS SQUARE FEET</th>\n",
       "      <th>YEAR BUILT</th>\n",
       "      <th>SALE PRICE</th>\n",
       "    </tr>\n",
       "  </thead>\n",
       "  <tbody>\n",
       "    <tr>\n",
       "      <th>count</th>\n",
       "      <td>44825.000000</td>\n",
       "      <td>44825.000000</td>\n",
       "      <td>44825.000000</td>\n",
       "      <td>44825.000000</td>\n",
       "      <td>44825.000000</td>\n",
       "      <td>4.482500e+04</td>\n",
       "      <td>4.482500e+04</td>\n",
       "      <td>44825.000000</td>\n",
       "      <td>4.482500e+04</td>\n",
       "    </tr>\n",
       "    <tr>\n",
       "      <th>mean</th>\n",
       "      <td>3.546258</td>\n",
       "      <td>5539.377312</td>\n",
       "      <td>67.452069</td>\n",
       "      <td>11019.448054</td>\n",
       "      <td>0.246871</td>\n",
       "      <td>4.902865e+03</td>\n",
       "      <td>5.807042e+03</td>\n",
       "      <td>1942.384607</td>\n",
       "      <td>9.391102e+05</td>\n",
       "    </tr>\n",
       "    <tr>\n",
       "      <th>std</th>\n",
       "      <td>0.981199</td>\n",
       "      <td>3685.477380</td>\n",
       "      <td>143.060185</td>\n",
       "      <td>462.177110</td>\n",
       "      <td>4.520444</td>\n",
       "      <td>8.017881e+04</td>\n",
       "      <td>4.182283e+04</td>\n",
       "      <td>31.014941</td>\n",
       "      <td>6.745778e+06</td>\n",
       "    </tr>\n",
       "    <tr>\n",
       "      <th>min</th>\n",
       "      <td>1.000000</td>\n",
       "      <td>2.000000</td>\n",
       "      <td>1.000000</td>\n",
       "      <td>10001.000000</td>\n",
       "      <td>0.000000</td>\n",
       "      <td>0.000000e+00</td>\n",
       "      <td>0.000000e+00</td>\n",
       "      <td>1800.000000</td>\n",
       "      <td>0.000000e+00</td>\n",
       "    </tr>\n",
       "    <tr>\n",
       "      <th>25%</th>\n",
       "      <td>3.000000</td>\n",
       "      <td>2718.000000</td>\n",
       "      <td>19.000000</td>\n",
       "      <td>10466.000000</td>\n",
       "      <td>0.000000</td>\n",
       "      <td>2.000000e+03</td>\n",
       "      <td>1.404000e+03</td>\n",
       "      <td>1920.000000</td>\n",
       "      <td>0.000000e+00</td>\n",
       "    </tr>\n",
       "    <tr>\n",
       "      <th>50%</th>\n",
       "      <td>4.000000</td>\n",
       "      <td>5123.000000</td>\n",
       "      <td>39.000000</td>\n",
       "      <td>11221.000000</td>\n",
       "      <td>0.000000</td>\n",
       "      <td>2.500000e+03</td>\n",
       "      <td>1.968000e+03</td>\n",
       "      <td>1931.000000</td>\n",
       "      <td>4.750000e+05</td>\n",
       "    </tr>\n",
       "    <tr>\n",
       "      <th>75%</th>\n",
       "      <td>4.000000</td>\n",
       "      <td>7718.000000</td>\n",
       "      <td>65.000000</td>\n",
       "      <td>11373.000000</td>\n",
       "      <td>0.000000</td>\n",
       "      <td>4.000000e+03</td>\n",
       "      <td>2.760000e+03</td>\n",
       "      <td>1960.000000</td>\n",
       "      <td>8.441290e+05</td>\n",
       "    </tr>\n",
       "    <tr>\n",
       "      <th>max</th>\n",
       "      <td>5.000000</td>\n",
       "      <td>16322.000000</td>\n",
       "      <td>4508.000000</td>\n",
       "      <td>11694.000000</td>\n",
       "      <td>436.000000</td>\n",
       "      <td>7.649136e+06</td>\n",
       "      <td>2.400000e+06</td>\n",
       "      <td>2021.000000</td>\n",
       "      <td>8.099126e+08</td>\n",
       "    </tr>\n",
       "  </tbody>\n",
       "</table>\n",
       "</div>"
      ],
      "text/plain": [
       "            BOROUGH         BLOCK           LOT      ZIP CODE  \\\n",
       "count  44825.000000  44825.000000  44825.000000  44825.000000   \n",
       "mean       3.546258   5539.377312     67.452069  11019.448054   \n",
       "std        0.981199   3685.477380    143.060185    462.177110   \n",
       "min        1.000000      2.000000      1.000000  10001.000000   \n",
       "25%        3.000000   2718.000000     19.000000  10466.000000   \n",
       "50%        4.000000   5123.000000     39.000000  11221.000000   \n",
       "75%        4.000000   7718.000000     65.000000  11373.000000   \n",
       "max        5.000000  16322.000000   4508.000000  11694.000000   \n",
       "\n",
       "       COMMERCIAL UNITS  LAND SQUARE FEET  GROSS SQUARE FEET    YEAR BUILT  \\\n",
       "count      44825.000000      4.482500e+04       4.482500e+04  44825.000000   \n",
       "mean           0.246871      4.902865e+03       5.807042e+03   1942.384607   \n",
       "std            4.520444      8.017881e+04       4.182283e+04     31.014941   \n",
       "min            0.000000      0.000000e+00       0.000000e+00   1800.000000   \n",
       "25%            0.000000      2.000000e+03       1.404000e+03   1920.000000   \n",
       "50%            0.000000      2.500000e+03       1.968000e+03   1931.000000   \n",
       "75%            0.000000      4.000000e+03       2.760000e+03   1960.000000   \n",
       "max          436.000000      7.649136e+06       2.400000e+06   2021.000000   \n",
       "\n",
       "         SALE PRICE  \n",
       "count  4.482500e+04  \n",
       "mean   9.391102e+05  \n",
       "std    6.745778e+06  \n",
       "min    0.000000e+00  \n",
       "25%    0.000000e+00  \n",
       "50%    4.750000e+05  \n",
       "75%    8.441290e+05  \n",
       "max    8.099126e+08  "
      ]
     },
     "execution_count": 3,
     "metadata": {},
     "output_type": "execute_result"
    }
   ],
   "source": [
    "df_raw.info()\n",
    "df_raw.describe()"
   ]
  },
  {
   "cell_type": "code",
   "execution_count": 4,
   "metadata": {},
   "outputs": [
    {
     "data": {
      "text/plain": [
       "array(['01 ONE FAMILY DWELLINGS', '02 TWO FAMILY DWELLINGS',\n",
       "       '03 THREE FAMILY DWELLINGS', '07 RENTALS - WALKUP APARTMENTS',\n",
       "       '32 HOSPITAL AND HEALTH FACILITIES',\n",
       "       '08 RENTALS - ELEVATOR APARTMENTS', '14 RENTALS - 4-10 UNIT',\n",
       "       '21 OFFICE BUILDINGS', '22 STORE BUILDINGS', '25 LUXURY HOTELS',\n",
       "       '29 COMMERCIAL GARAGES', '30 WAREHOUSES', '26 OTHER HOTELS',\n",
       "       '34 THEATRES', '11 SPECIAL CONDO BILLING LOTS', '27 FACTORIES',\n",
       "       '41 TAX CLASS 4 - OTHER',\n",
       "       '35 INDOOR PUBLIC AND CULTURAL FACILITIES',\n",
       "       '37 RELIGIOUS FACILITIES', '38 ASYLUMS AND HOMES',\n",
       "       '33 EDUCATIONAL FACILITIES', '31 COMMERCIAL VACANT LAND',\n",
       "       '06 TAX CLASS 1 - OTHER', '05 TAX CLASS 1 VACANT LAND',\n",
       "       '36 OUTDOOR RECREATIONAL FACILITIES'], dtype=object)"
      ]
     },
     "execution_count": 4,
     "metadata": {},
     "output_type": "execute_result"
    }
   ],
   "source": [
    "df_raw['BUILDING CLASS CATEGORY'].unique()"
   ]
  },
  {
   "cell_type": "code",
   "execution_count": 5,
   "metadata": {},
   "outputs": [],
   "source": [
    "#######Data pre-processing part. "
   ]
  },
  {
   "cell_type": "code",
   "execution_count": 6,
   "metadata": {},
   "outputs": [],
   "source": [
    "#switch the data type\n",
    "df_raw['LAND SQUARE FEET']=pd.to_numeric(df_raw['LAND SQUARE FEET'],errors='coerce')\n",
    "df_raw['GROSS SQUARE FEET']=pd.to_numeric(df_raw['GROSS SQUARE FEET'],errors='coerce')\n",
    "df_raw['SALE PRICE']=pd.to_numeric(df_raw['SALE PRICE'],errors='coerce')\n",
    "df_raw=df_raw[df_raw['SALE PRICE'].notnull()]"
   ]
  },
  {
   "cell_type": "code",
   "execution_count": 7,
   "metadata": {},
   "outputs": [],
   "source": [
    "df_raw['BOROUGH']=df_raw['BOROUGH'].astype('object')\n",
    "df_raw['BLOCK']=df_raw['BLOCK'].astype('object')\n",
    "df_raw['LOT']=df_raw['LOT'].astype('object')\n",
    "df_raw['ZIP CODE'] = df_raw['ZIP CODE'].astype('object')"
   ]
  },
  {
   "cell_type": "code",
   "execution_count": 8,
   "metadata": {},
   "outputs": [
    {
     "name": "stdout",
     "output_type": "stream",
     "text": [
      "<class 'pandas.core.frame.DataFrame'>\n",
      "Int64Index: 44825 entries, 0 to 44824\n",
      "Data columns (total 17 columns):\n",
      " #   Column                          Non-Null Count  Dtype \n",
      "---  ------                          --------------  ----- \n",
      " 0   BOROUGH                         44825 non-null  object\n",
      " 1   NEIGHBORHOOD                    44825 non-null  object\n",
      " 2   BUILDING CLASS CATEGORY         44825 non-null  object\n",
      " 3   BLOCK                           44825 non-null  object\n",
      " 4   LOT                             44825 non-null  object\n",
      " 5   BUILDING CLASS AT PRESENT       44825 non-null  object\n",
      " 6   ADDRESS                         44825 non-null  object\n",
      " 7   ZIP CODE                        44825 non-null  object\n",
      " 8   RESIDENTIAL UNITS               44825 non-null  object\n",
      " 9   COMMERCIAL UNITS                44825 non-null  int64 \n",
      " 10  TOTAL UNITS                     44825 non-null  object\n",
      " 11  LAND SQUARE FEET                44825 non-null  int64 \n",
      " 12  GROSS SQUARE FEET               44825 non-null  int64 \n",
      " 13  YEAR BUILT                      44825 non-null  int64 \n",
      " 14  BUILDING CLASS AT TIME OF SALE  44825 non-null  object\n",
      " 15  SALE PRICE                      44825 non-null  int64 \n",
      " 16  SALE DATE                       44825 non-null  object\n",
      "dtypes: int64(5), object(12)\n",
      "memory usage: 6.2+ MB\n"
     ]
    }
   ],
   "source": [
    "df_raw.info()"
   ]
  },
  {
   "cell_type": "code",
   "execution_count": 9,
   "metadata": {},
   "outputs": [
    {
     "data": {
      "text/html": [
       "<div>\n",
       "<style scoped>\n",
       "    .dataframe tbody tr th:only-of-type {\n",
       "        vertical-align: middle;\n",
       "    }\n",
       "\n",
       "    .dataframe tbody tr th {\n",
       "        vertical-align: top;\n",
       "    }\n",
       "\n",
       "    .dataframe thead th {\n",
       "        text-align: right;\n",
       "    }\n",
       "</style>\n",
       "<table border=\"1\" class=\"dataframe\">\n",
       "  <thead>\n",
       "    <tr style=\"text-align: right;\">\n",
       "      <th></th>\n",
       "      <th>BOROUGH</th>\n",
       "      <th>NEIGHBORHOOD</th>\n",
       "      <th>BUILDING CLASS CATEGORY</th>\n",
       "      <th>BLOCK</th>\n",
       "      <th>LOT</th>\n",
       "      <th>BUILDING CLASS AT PRESENT</th>\n",
       "      <th>ADDRESS</th>\n",
       "      <th>ZIP CODE</th>\n",
       "      <th>RESIDENTIAL UNITS</th>\n",
       "      <th>COMMERCIAL UNITS</th>\n",
       "      <th>TOTAL UNITS</th>\n",
       "      <th>LAND SQUARE FEET</th>\n",
       "      <th>GROSS SQUARE FEET</th>\n",
       "      <th>YEAR BUILT</th>\n",
       "      <th>BUILDING CLASS AT TIME OF SALE</th>\n",
       "      <th>SALE PRICE</th>\n",
       "      <th>SALE DATE</th>\n",
       "    </tr>\n",
       "  </thead>\n",
       "  <tbody>\n",
       "    <tr>\n",
       "      <th>0</th>\n",
       "      <td>1</td>\n",
       "      <td>ALPHABET CITY</td>\n",
       "      <td>01 ONE FAMILY DWELLINGS</td>\n",
       "      <td>374</td>\n",
       "      <td>46</td>\n",
       "      <td>A4</td>\n",
       "      <td>347 EAST 4TH STREET</td>\n",
       "      <td>10009</td>\n",
       "      <td>1</td>\n",
       "      <td>0</td>\n",
       "      <td>1</td>\n",
       "      <td>2116</td>\n",
       "      <td>4400</td>\n",
       "      <td>1900</td>\n",
       "      <td>A4</td>\n",
       "      <td>2385000</td>\n",
       "      <td>2021/2/9</td>\n",
       "    </tr>\n",
       "    <tr>\n",
       "      <th>1</th>\n",
       "      <td>1</td>\n",
       "      <td>ALPHABET CITY</td>\n",
       "      <td>02 TWO FAMILY DWELLINGS</td>\n",
       "      <td>377</td>\n",
       "      <td>72</td>\n",
       "      <td>B9</td>\n",
       "      <td>231 EAST 7TH</td>\n",
       "      <td>10009</td>\n",
       "      <td>2</td>\n",
       "      <td>0</td>\n",
       "      <td>2</td>\n",
       "      <td>1718</td>\n",
       "      <td>5154</td>\n",
       "      <td>1901</td>\n",
       "      <td>B9</td>\n",
       "      <td>0</td>\n",
       "      <td>2020/10/2</td>\n",
       "    </tr>\n",
       "    <tr>\n",
       "      <th>2</th>\n",
       "      <td>1</td>\n",
       "      <td>ALPHABET CITY</td>\n",
       "      <td>03 THREE FAMILY DWELLINGS</td>\n",
       "      <td>377</td>\n",
       "      <td>66</td>\n",
       "      <td>C0</td>\n",
       "      <td>243 EAST 7TH STREET</td>\n",
       "      <td>10009</td>\n",
       "      <td>3</td>\n",
       "      <td>0</td>\n",
       "      <td>3</td>\n",
       "      <td>2381</td>\n",
       "      <td>3084</td>\n",
       "      <td>1899</td>\n",
       "      <td>C0</td>\n",
       "      <td>0</td>\n",
       "      <td>2020/10/31</td>\n",
       "    </tr>\n",
       "    <tr>\n",
       "      <th>3</th>\n",
       "      <td>1</td>\n",
       "      <td>ALPHABET CITY</td>\n",
       "      <td>07 RENTALS - WALKUP APARTMENTS</td>\n",
       "      <td>372</td>\n",
       "      <td>10</td>\n",
       "      <td>C7</td>\n",
       "      <td>274 EAST 3RD</td>\n",
       "      <td>10009</td>\n",
       "      <td>9</td>\n",
       "      <td>1</td>\n",
       "      <td>10</td>\n",
       "      <td>2021</td>\n",
       "      <td>6445</td>\n",
       "      <td>1900</td>\n",
       "      <td>C7</td>\n",
       "      <td>0</td>\n",
       "      <td>2020/12/27</td>\n",
       "    </tr>\n",
       "    <tr>\n",
       "      <th>4</th>\n",
       "      <td>1</td>\n",
       "      <td>ALPHABET CITY</td>\n",
       "      <td>07 RENTALS - WALKUP APARTMENTS</td>\n",
       "      <td>374</td>\n",
       "      <td>1</td>\n",
       "      <td>C7</td>\n",
       "      <td>301-303 EAST 4TH STREET</td>\n",
       "      <td>10009</td>\n",
       "      <td>8</td>\n",
       "      <td>2</td>\n",
       "      <td>10</td>\n",
       "      <td>1501</td>\n",
       "      <td>6929</td>\n",
       "      <td>1900</td>\n",
       "      <td>C7</td>\n",
       "      <td>3672530</td>\n",
       "      <td>2020/11/24</td>\n",
       "    </tr>\n",
       "  </tbody>\n",
       "</table>\n",
       "</div>"
      ],
      "text/plain": [
       "  BOROUGH   NEIGHBORHOOD         BUILDING CLASS CATEGORY BLOCK LOT  \\\n",
       "0       1  ALPHABET CITY         01 ONE FAMILY DWELLINGS   374  46   \n",
       "1       1  ALPHABET CITY         02 TWO FAMILY DWELLINGS   377  72   \n",
       "2       1  ALPHABET CITY       03 THREE FAMILY DWELLINGS   377  66   \n",
       "3       1  ALPHABET CITY  07 RENTALS - WALKUP APARTMENTS   372  10   \n",
       "4       1  ALPHABET CITY  07 RENTALS - WALKUP APARTMENTS   374   1   \n",
       "\n",
       "  BUILDING CLASS AT PRESENT                  ADDRESS ZIP CODE  \\\n",
       "0                        A4      347 EAST 4TH STREET    10009   \n",
       "1                        B9             231 EAST 7TH    10009   \n",
       "2                        C0      243 EAST 7TH STREET    10009   \n",
       "3                        C7             274 EAST 3RD    10009   \n",
       "4                        C7  301-303 EAST 4TH STREET    10009   \n",
       "\n",
       "  RESIDENTIAL UNITS  COMMERCIAL UNITS TOTAL UNITS  LAND SQUARE FEET  \\\n",
       "0                 1                 0           1              2116   \n",
       "1                 2                 0           2              1718   \n",
       "2                 3                 0           3              2381   \n",
       "3                 9                 1          10              2021   \n",
       "4                 8                 2          10              1501   \n",
       "\n",
       "   GROSS SQUARE FEET  YEAR BUILT BUILDING CLASS AT TIME OF SALE  SALE PRICE  \\\n",
       "0               4400        1900                             A4     2385000   \n",
       "1               5154        1901                             B9           0   \n",
       "2               3084        1899                             C0           0   \n",
       "3               6445        1900                             C7           0   \n",
       "4               6929        1900                             C7     3672530   \n",
       "\n",
       "    SALE DATE  \n",
       "0    2021/2/9  \n",
       "1   2020/10/2  \n",
       "2  2020/10/31  \n",
       "3  2020/12/27  \n",
       "4  2020/11/24  "
      ]
     },
     "execution_count": 9,
     "metadata": {},
     "output_type": "execute_result"
    }
   ],
   "source": [
    "df_raw.head()"
   ]
  },
  {
   "cell_type": "code",
   "execution_count": 10,
   "metadata": {},
   "outputs": [
    {
     "data": {
      "text/html": [
       "<div>\n",
       "<style scoped>\n",
       "    .dataframe tbody tr th:only-of-type {\n",
       "        vertical-align: middle;\n",
       "    }\n",
       "\n",
       "    .dataframe tbody tr th {\n",
       "        vertical-align: top;\n",
       "    }\n",
       "\n",
       "    .dataframe thead th {\n",
       "        text-align: right;\n",
       "    }\n",
       "</style>\n",
       "<table border=\"1\" class=\"dataframe\">\n",
       "  <thead>\n",
       "    <tr style=\"text-align: right;\">\n",
       "      <th></th>\n",
       "      <th>COMMERCIAL UNITS</th>\n",
       "      <th>LAND SQUARE FEET</th>\n",
       "      <th>GROSS SQUARE FEET</th>\n",
       "      <th>YEAR BUILT</th>\n",
       "      <th>SALE PRICE</th>\n",
       "    </tr>\n",
       "  </thead>\n",
       "  <tbody>\n",
       "    <tr>\n",
       "      <th>count</th>\n",
       "      <td>44825.000000</td>\n",
       "      <td>4.482500e+04</td>\n",
       "      <td>4.482500e+04</td>\n",
       "      <td>44825.000000</td>\n",
       "      <td>4.482500e+04</td>\n",
       "    </tr>\n",
       "    <tr>\n",
       "      <th>mean</th>\n",
       "      <td>0.246871</td>\n",
       "      <td>4.902865e+03</td>\n",
       "      <td>5.807042e+03</td>\n",
       "      <td>1942.384607</td>\n",
       "      <td>9.391102e+05</td>\n",
       "    </tr>\n",
       "    <tr>\n",
       "      <th>std</th>\n",
       "      <td>4.520444</td>\n",
       "      <td>8.017881e+04</td>\n",
       "      <td>4.182283e+04</td>\n",
       "      <td>31.014941</td>\n",
       "      <td>6.745778e+06</td>\n",
       "    </tr>\n",
       "    <tr>\n",
       "      <th>min</th>\n",
       "      <td>0.000000</td>\n",
       "      <td>0.000000e+00</td>\n",
       "      <td>0.000000e+00</td>\n",
       "      <td>1800.000000</td>\n",
       "      <td>0.000000e+00</td>\n",
       "    </tr>\n",
       "    <tr>\n",
       "      <th>25%</th>\n",
       "      <td>0.000000</td>\n",
       "      <td>2.000000e+03</td>\n",
       "      <td>1.404000e+03</td>\n",
       "      <td>1920.000000</td>\n",
       "      <td>0.000000e+00</td>\n",
       "    </tr>\n",
       "    <tr>\n",
       "      <th>50%</th>\n",
       "      <td>0.000000</td>\n",
       "      <td>2.500000e+03</td>\n",
       "      <td>1.968000e+03</td>\n",
       "      <td>1931.000000</td>\n",
       "      <td>4.750000e+05</td>\n",
       "    </tr>\n",
       "    <tr>\n",
       "      <th>75%</th>\n",
       "      <td>0.000000</td>\n",
       "      <td>4.000000e+03</td>\n",
       "      <td>2.760000e+03</td>\n",
       "      <td>1960.000000</td>\n",
       "      <td>8.441290e+05</td>\n",
       "    </tr>\n",
       "    <tr>\n",
       "      <th>max</th>\n",
       "      <td>436.000000</td>\n",
       "      <td>7.649136e+06</td>\n",
       "      <td>2.400000e+06</td>\n",
       "      <td>2021.000000</td>\n",
       "      <td>8.099126e+08</td>\n",
       "    </tr>\n",
       "  </tbody>\n",
       "</table>\n",
       "</div>"
      ],
      "text/plain": [
       "       COMMERCIAL UNITS  LAND SQUARE FEET  GROSS SQUARE FEET    YEAR BUILT  \\\n",
       "count      44825.000000      4.482500e+04       4.482500e+04  44825.000000   \n",
       "mean           0.246871      4.902865e+03       5.807042e+03   1942.384607   \n",
       "std            4.520444      8.017881e+04       4.182283e+04     31.014941   \n",
       "min            0.000000      0.000000e+00       0.000000e+00   1800.000000   \n",
       "25%            0.000000      2.000000e+03       1.404000e+03   1920.000000   \n",
       "50%            0.000000      2.500000e+03       1.968000e+03   1931.000000   \n",
       "75%            0.000000      4.000000e+03       2.760000e+03   1960.000000   \n",
       "max          436.000000      7.649136e+06       2.400000e+06   2021.000000   \n",
       "\n",
       "         SALE PRICE  \n",
       "count  4.482500e+04  \n",
       "mean   9.391102e+05  \n",
       "std    6.745778e+06  \n",
       "min    0.000000e+00  \n",
       "25%    0.000000e+00  \n",
       "50%    4.750000e+05  \n",
       "75%    8.441290e+05  \n",
       "max    8.099126e+08  "
      ]
     },
     "execution_count": 10,
     "metadata": {},
     "output_type": "execute_result"
    }
   ],
   "source": [
    "df_raw.describe()"
   ]
  },
  {
   "cell_type": "code",
   "execution_count": 11,
   "metadata": {},
   "outputs": [],
   "source": [
    "df_raw=df_raw[~df_raw['SALE PRICE'].isin([0])]\n",
    "df_house_price=df_raw\n",
    "df_raw['YEAR BUILT'].value_counts()\n",
    "for value in df_house_price.index.values:\n",
    "    if df_house_price.loc[value,'YEAR BUILT'] == 0:\n",
    "        df_house_price.loc[value,'YEAR BUILT']=1930"
   ]
  },
  {
   "cell_type": "code",
   "execution_count": 12,
   "metadata": {},
   "outputs": [
    {
     "name": "stdout",
     "output_type": "stream",
     "text": [
      "<class 'pandas.core.frame.DataFrame'>\n",
      "Int64Index: 26681 entries, 0 to 44824\n",
      "Data columns (total 17 columns):\n",
      " #   Column                          Non-Null Count  Dtype \n",
      "---  ------                          --------------  ----- \n",
      " 0   BOROUGH                         26681 non-null  object\n",
      " 1   NEIGHBORHOOD                    26681 non-null  object\n",
      " 2   BUILDING CLASS CATEGORY         26681 non-null  object\n",
      " 3   BLOCK                           26681 non-null  object\n",
      " 4   LOT                             26681 non-null  object\n",
      " 5   BUILDING CLASS AT PRESENT       26681 non-null  object\n",
      " 6   ADDRESS                         26681 non-null  object\n",
      " 7   ZIP CODE                        26681 non-null  object\n",
      " 8   RESIDENTIAL UNITS               26681 non-null  object\n",
      " 9   COMMERCIAL UNITS                26681 non-null  int64 \n",
      " 10  TOTAL UNITS                     26681 non-null  object\n",
      " 11  LAND SQUARE FEET                26681 non-null  int64 \n",
      " 12  GROSS SQUARE FEET               26681 non-null  int64 \n",
      " 13  YEAR BUILT                      26681 non-null  int64 \n",
      " 14  BUILDING CLASS AT TIME OF SALE  26681 non-null  object\n",
      " 15  SALE PRICE                      26681 non-null  int64 \n",
      " 16  SALE DATE                       26681 non-null  object\n",
      "dtypes: int64(5), object(12)\n",
      "memory usage: 4.9+ MB\n"
     ]
    }
   ],
   "source": [
    "df_raw.info()\n",
    "df_raw.describe()\n",
    "df_raw.to_csv('price.csv')"
   ]
  },
  {
   "cell_type": "code",
   "execution_count": null,
   "metadata": {},
   "outputs": [],
   "source": []
  },
  {
   "cell_type": "code",
   "execution_count": 13,
   "metadata": {},
   "outputs": [],
   "source": [
    "######locading the geo_file here:\n",
    "import geopandas as gpd"
   ]
  },
  {
   "cell_type": "code",
   "execution_count": 14,
   "metadata": {},
   "outputs": [],
   "source": [
    "gdf_raw = gpd.read_file('ZIP_CODE_040114.shp')"
   ]
  },
  {
   "cell_type": "code",
   "execution_count": 15,
   "metadata": {},
   "outputs": [
    {
     "name": "stdout",
     "output_type": "stream",
     "text": [
      "<class 'geopandas.geodataframe.GeoDataFrame'>\n",
      "RangeIndex: 263 entries, 0 to 262\n",
      "Data columns (total 13 columns):\n",
      " #   Column      Non-Null Count  Dtype   \n",
      "---  ------      --------------  -----   \n",
      " 0   ZIPCODE     263 non-null    object  \n",
      " 1   BLDGZIP     263 non-null    object  \n",
      " 2   PO_NAME     263 non-null    object  \n",
      " 3   POPULATION  263 non-null    float64 \n",
      " 4   AREA        263 non-null    float64 \n",
      " 5   STATE       263 non-null    object  \n",
      " 6   COUNTY      263 non-null    object  \n",
      " 7   ST_FIPS     263 non-null    object  \n",
      " 8   CTY_FIPS    263 non-null    object  \n",
      " 9   URL         263 non-null    object  \n",
      " 10  SHAPE_AREA  263 non-null    float64 \n",
      " 11  SHAPE_LEN   263 non-null    float64 \n",
      " 12  geometry    263 non-null    geometry\n",
      "dtypes: float64(4), geometry(1), object(8)\n",
      "memory usage: 26.8+ KB\n"
     ]
    }
   ],
   "source": [
    "gdf_raw.info()"
   ]
  },
  {
   "cell_type": "code",
   "execution_count": null,
   "metadata": {},
   "outputs": [],
   "source": []
  },
  {
   "cell_type": "code",
   "execution_count": 16,
   "metadata": {},
   "outputs": [
    {
     "name": "stdout",
     "output_type": "stream",
     "text": [
      "<class 'geopandas.geodataframe.GeoDataFrame'>\n",
      "Int64Index: 263 entries, 0 to 262\n",
      "Data columns (total 13 columns):\n",
      " #   Column      Non-Null Count  Dtype   \n",
      "---  ------      --------------  -----   \n",
      " 0   ZIPCODE     263 non-null    object  \n",
      " 1   BLDGZIP     263 non-null    object  \n",
      " 2   PO_NAME     263 non-null    object  \n",
      " 3   POPULATION  263 non-null    float64 \n",
      " 4   AREA        263 non-null    float64 \n",
      " 5   STATE       263 non-null    object  \n",
      " 6   COUNTY      263 non-null    object  \n",
      " 7   ST_FIPS     263 non-null    object  \n",
      " 8   CTY_FIPS    263 non-null    object  \n",
      " 9   URL         263 non-null    object  \n",
      " 10  SHAPE_AREA  263 non-null    float64 \n",
      " 11  SHAPE_LEN   263 non-null    float64 \n",
      " 12  geometry    263 non-null    geometry\n",
      "dtypes: float64(4), geometry(1), object(8)\n",
      "memory usage: 28.8+ KB\n"
     ]
    }
   ],
   "source": [
    "gdf_raw['ZIPCODE'].unique()\n",
    "#####change the data type from object to int 64\n",
    "####delete the abnormal row with zipcode. \n",
    "gdf_raw = gdf_raw.drop(index=(gdf_raw.loc[(gdf_raw['ZIPCODE']==83)].index))\n",
    "gdf_raw.info()"
   ]
  },
  {
   "cell_type": "code",
   "execution_count": 17,
   "metadata": {},
   "outputs": [],
   "source": [
    "len_1 = df_raw['ZIP CODE']\n",
    "len_2 = gdf_raw['ZIPCODE']"
   ]
  },
  {
   "cell_type": "code",
   "execution_count": 18,
   "metadata": {},
   "outputs": [
    {
     "data": {
      "text/plain": [
       "array([10009, 10011, 10014, 10001, 10013, 10038, 10002, 10007, 10019,\n",
       "       10036, 10003, 10018, 10005, 10004, 10006, 10010, 10012, 10037,\n",
       "       10027, 10030, 10031, 10026, 10035, 10039, 10029, 10463, 10034,\n",
       "       10025, 10022, 10017, 10020, 10016, 10065, 10021, 10075, 10028,\n",
       "       10128, 10023, 10024, 10032, 10033, 10040, 10457, 10458, 10469,\n",
       "       10466, 10475, 10468, 10467, 10460, 10473, 10472, 10464, 10462,\n",
       "       10465, 10459, 10471, 10453, 10452, 10474, 10456, 10451, 10455,\n",
       "       10461, 10454, 10470, 11228, 11214, 11220, 11209, 11221, 11233,\n",
       "       11213, 11216, 11238, 11206, 11205, 11204, 11219, 11234, 11217,\n",
       "       11201, 11218, 11232, 11230, 11235, 11212, 11237, 11207, 11236,\n",
       "       11239, 11231, 11224, 11225, 11208, 11226, 11210, 11203, 11229,\n",
       "       11215, 11223, 11222, 11211, 11249, 11370, 11691, 11692, 11102,\n",
       "       11106, 11103, 11377, 11105, 11101, 11361, 11357, 11360, 11358,\n",
       "       11364, 11693, 11694, 11426, 11004, 11001, 11435, 11411, 11356,\n",
       "       11354, 11420, 11368, 11363, 11362, 11369, 11373, 11378, 11385,\n",
       "       11040, 11355, 11365, 11367, 11366, 11375, 11374, 11421, 11379,\n",
       "       11432, 11423, 11433, 11412, 11428, 11427, 11429, 11414, 11372,\n",
       "       11422, 11418, 11415, 11413, 11416, 11417, 11419, 11436, 11434,\n",
       "       11104, 10312, 10314, 10305, 10303, 10310, 10301, 10304, 10306,\n",
       "       10308, 10309, 10302, 10307], dtype=object)"
      ]
     },
     "execution_count": 18,
     "metadata": {},
     "output_type": "execute_result"
    }
   ],
   "source": [
    "df_raw['ZIP CODE'].unique()"
   ]
  },
  {
   "cell_type": "code",
   "execution_count": 19,
   "metadata": {},
   "outputs": [
    {
     "data": {
      "text/plain": [
       "array(['11436', '11213', '11212', '11225', '11218', '11226', '11219',\n",
       "       '11210', '11230', '11204', '10471', '10470', '10466', '10467',\n",
       "       '10463', '10475', '10464', '10469', '10468', '10458', '10034',\n",
       "       '10033', '10462', '10040', '10453', '10465', '10461', '10457',\n",
       "       '10460', '10032', '10452', '10456', '10472', '10031', '10039',\n",
       "       '10459', '10451', '10473', '10030', '10027', '10474', '10455',\n",
       "       '10037', '10024', '10454', '10026', '10035', '10048', '10025',\n",
       "       '11357', '10029', '00083', '11356', '11359', '11360', '11105',\n",
       "       '10128', '10023', '11363', '10028', '11354', '11102', '11370',\n",
       "       '10021', '11358', '11362', '10044', '11369', '11103', '11106',\n",
       "       '11368', '11377', '11355', '11101', '11364', '10018', '10020',\n",
       "       '11005', '10017', '10001', '10011', '10016', '11104', '11109',\n",
       "       '10010', '11367', '10014', '10003', '11222', '10002', '11378',\n",
       "       '10009', '10012', '10013', '10007', '11237', '11385', '10038',\n",
       "       '11206', '10006', '11412', '10005', '11251', '10004', '11411',\n",
       "       '11201', '11205', '11208', '11207', '11413', '11217', '11238',\n",
       "       '11231', '11422', '11420', '11417', '11215', '11232', '11430',\n",
       "       '11203', '11239', '11236', '11220', '10301', '10303', '11234',\n",
       "       '10302', '11693', '11209', '10304', '10314', '11228', '11096',\n",
       "       '10305', '11229', '11214', '11691', '11223', '11692', '11235',\n",
       "       '10306', '11694', '11224', '10308', '11697', '10312', '10309',\n",
       "       '10307', '10280', '11372', '11004', '11040', '11426', '11365',\n",
       "       '11001', '11375', '11427', '11374', '11366', '11423', '11428',\n",
       "       '11432', '11379', '11429', '11435', '11415', '11418', '11433',\n",
       "       '11451', '11221', '11421', '11419', '11434', '11216', '11416',\n",
       "       '11233', '10055', '10019', '10111', '10153', '10154', '10152',\n",
       "       '10115', '10022', '10065', '10075', '10069', '10281', '10282',\n",
       "       '11211', '11373', '10279', '10165', '10168', '10105', '10118',\n",
       "       '10176', '10170', '10112', '10122', '10107', '10103', '10174',\n",
       "       '10166', '10169', '10167', '10177', '10172', '10171', '10270',\n",
       "       '10104', '10271', '10110', '10175', '10151', '10173', '10178',\n",
       "       '10121', '10123', '10106', '10158', '10041', '10120', '10278',\n",
       "       '10155', '10043', '10081', '10096', '10097', '10196', '10275',\n",
       "       '10265', '10045', '10047', '10080', '10203', '10259', '10260',\n",
       "       '10285', '10286', '11371', '11361', '10036', '11414', '10310',\n",
       "       '11249', '10162', '10119'], dtype=object)"
      ]
     },
     "execution_count": 19,
     "metadata": {},
     "output_type": "execute_result"
    }
   ],
   "source": [
    "gdf_raw['ZIPCODE'].unique()"
   ]
  },
  {
   "cell_type": "code",
   "execution_count": 20,
   "metadata": {},
   "outputs": [],
   "source": [
    "#####loading another shapefile---we need latitude and longitude from here. "
   ]
  },
  {
   "cell_type": "code",
   "execution_count": 21,
   "metadata": {},
   "outputs": [],
   "source": [
    "gdf_ano = gpd.read_file('FacDB_20210315.shp')"
   ]
  },
  {
   "cell_type": "code",
   "execution_count": 22,
   "metadata": {},
   "outputs": [
    {
     "name": "stdout",
     "output_type": "stream",
     "text": [
      "<class 'geopandas.geodataframe.GeoDataFrame'>\n",
      "RangeIndex: 30930 entries, 0 to 30929\n",
      "Data columns (total 37 columns):\n",
      " #   Column      Non-Null Count  Dtype   \n",
      "---  ------      --------------  -----   \n",
      " 0   FACNAME     30924 non-null  object  \n",
      " 1   ADDRESSNUM  25516 non-null  object  \n",
      " 2   STREETNAME  25559 non-null  object  \n",
      " 3   ADDRESS     25145 non-null  object  \n",
      " 4   CITY        30534 non-null  object  \n",
      " 5   ZIPCODE     30538 non-null  object  \n",
      " 6   BORO        30927 non-null  object  \n",
      " 7   BOROCODE    30930 non-null  int64   \n",
      " 8   BIN         30930 non-null  int64   \n",
      " 9   BBL         30930 non-null  float64 \n",
      " 10  COMMBOARD   30930 non-null  int64   \n",
      " 11  NTA         30581 non-null  object  \n",
      " 12  COUNCIL     30930 non-null  int64   \n",
      " 13  SCHOOLDIST  30528 non-null  object  \n",
      " 14  POLICEPRCT  30930 non-null  int64   \n",
      " 15  CENSTRACT   30930 non-null  object  \n",
      " 16  FACTYPE     30897 non-null  object  \n",
      " 17  FACSUBGRP   30930 non-null  object  \n",
      " 18  FACGROUP    30930 non-null  object  \n",
      " 19  FACDOMAIN   30930 non-null  object  \n",
      " 20  SERVAREA    30930 non-null  object  \n",
      " 21  OPNAME      29913 non-null  object  \n",
      " 22  OPABBREV    24376 non-null  object  \n",
      " 23  OPTYPE      30930 non-null  object  \n",
      " 24  OVERAGENCY  30905 non-null  object  \n",
      " 25  OVERABBREV  30911 non-null  object  \n",
      " 26  OVERLEVEL   30275 non-null  object  \n",
      " 27  CAPACITY    30930 non-null  int64   \n",
      " 28  CAPTYPE     2143 non-null   object  \n",
      " 29  PROPTYPE    4029 non-null   object  \n",
      " 30  LATITUDE    30930 non-null  float64 \n",
      " 31  LONGITUDE   30930 non-null  float64 \n",
      " 32  XCOORD      30930 non-null  float64 \n",
      " 33  YCOORD      30930 non-null  float64 \n",
      " 34  DATASOURCE  30930 non-null  object  \n",
      " 35  UID         30930 non-null  object  \n",
      " 36  geometry    30930 non-null  geometry\n",
      "dtypes: float64(5), geometry(1), int64(6), object(25)\n",
      "memory usage: 8.7+ MB\n"
     ]
    },
    {
     "data": {
      "text/html": [
       "<div>\n",
       "<style scoped>\n",
       "    .dataframe tbody tr th:only-of-type {\n",
       "        vertical-align: middle;\n",
       "    }\n",
       "\n",
       "    .dataframe tbody tr th {\n",
       "        vertical-align: top;\n",
       "    }\n",
       "\n",
       "    .dataframe thead th {\n",
       "        text-align: right;\n",
       "    }\n",
       "</style>\n",
       "<table border=\"1\" class=\"dataframe\">\n",
       "  <thead>\n",
       "    <tr style=\"text-align: right;\">\n",
       "      <th></th>\n",
       "      <th>FACNAME</th>\n",
       "      <th>ADDRESSNUM</th>\n",
       "      <th>STREETNAME</th>\n",
       "      <th>ADDRESS</th>\n",
       "      <th>CITY</th>\n",
       "      <th>ZIPCODE</th>\n",
       "      <th>BORO</th>\n",
       "      <th>BOROCODE</th>\n",
       "      <th>BIN</th>\n",
       "      <th>BBL</th>\n",
       "      <th>...</th>\n",
       "      <th>CAPACITY</th>\n",
       "      <th>CAPTYPE</th>\n",
       "      <th>PROPTYPE</th>\n",
       "      <th>LATITUDE</th>\n",
       "      <th>LONGITUDE</th>\n",
       "      <th>XCOORD</th>\n",
       "      <th>YCOORD</th>\n",
       "      <th>DATASOURCE</th>\n",
       "      <th>UID</th>\n",
       "      <th>geometry</th>\n",
       "    </tr>\n",
       "  </thead>\n",
       "  <tbody>\n",
       "    <tr>\n",
       "      <th>0</th>\n",
       "      <td>ENGINE 96/LADDER 54</td>\n",
       "      <td>1689</td>\n",
       "      <td>STORY AVENUE</td>\n",
       "      <td>1689 STORY AVENUE</td>\n",
       "      <td>BRONX</td>\n",
       "      <td>10473</td>\n",
       "      <td>Bronx</td>\n",
       "      <td>2</td>\n",
       "      <td>2022629</td>\n",
       "      <td>2.036600e+09</td>\n",
       "      <td>...</td>\n",
       "      <td>0</td>\n",
       "      <td>None</td>\n",
       "      <td>None</td>\n",
       "      <td>40.823020</td>\n",
       "      <td>-73.869342</td>\n",
       "      <td>1.020412e+06</td>\n",
       "      <td>239152.369216</td>\n",
       "      <td>fdny_firehouses</td>\n",
       "      <td>151b0155ff655590430216bbcb20df4b</td>\n",
       "      <td>POINT (1020412.567 239149.352)</td>\n",
       "    </tr>\n",
       "    <tr>\n",
       "      <th>1</th>\n",
       "      <td>SAM CONSULTING SERVICES, INC.</td>\n",
       "      <td>1723</td>\n",
       "      <td>EAST 12 STREET</td>\n",
       "      <td>1723 EAST 12 STREET</td>\n",
       "      <td>BROOKLYN</td>\n",
       "      <td>11229</td>\n",
       "      <td>Brooklyn</td>\n",
       "      <td>3</td>\n",
       "      <td>3329266</td>\n",
       "      <td>3.067950e+09</td>\n",
       "      <td>...</td>\n",
       "      <td>0</td>\n",
       "      <td>None</td>\n",
       "      <td>None</td>\n",
       "      <td>40.607351</td>\n",
       "      <td>-73.960579</td>\n",
       "      <td>9.951960e+05</td>\n",
       "      <td>160553.378254</td>\n",
       "      <td>nysed_activeinstitutions</td>\n",
       "      <td>79b0edacfda9269eaea9f8aa4e629cd9</td>\n",
       "      <td>POINT (995196.385 160550.377)</td>\n",
       "    </tr>\n",
       "    <tr>\n",
       "      <th>2</th>\n",
       "      <td>\"UNCLE\" VITO F. MARANZANO GLENDALE PLAYGROUND</td>\n",
       "      <td>2869</td>\n",
       "      <td>CENTRAL AVENUE</td>\n",
       "      <td>2869 CENTRAL AVENUE</td>\n",
       "      <td>RIDGEWOOD</td>\n",
       "      <td>11385</td>\n",
       "      <td>Queens</td>\n",
       "      <td>4</td>\n",
       "      <td>4089051</td>\n",
       "      <td>4.036610e+09</td>\n",
       "      <td>...</td>\n",
       "      <td>0</td>\n",
       "      <td>None</td>\n",
       "      <td>None</td>\n",
       "      <td>40.704931</td>\n",
       "      <td>-73.881757</td>\n",
       "      <td>1.017034e+06</td>\n",
       "      <td>196123.976233</td>\n",
       "      <td>dpr_parksproperties</td>\n",
       "      <td>1ac6da16a9d1325bb4ac9fce32ac0160</td>\n",
       "      <td>POINT (1017034.476 196120.967)</td>\n",
       "    </tr>\n",
       "    <tr>\n",
       "      <th>3</th>\n",
       "      <td>THE STUDIO SCHOOL</td>\n",
       "      <td>117</td>\n",
       "      <td>WEST 95 STREET</td>\n",
       "      <td>117 WEST 95 STREET</td>\n",
       "      <td>NEW YORK</td>\n",
       "      <td>10025</td>\n",
       "      <td>Manhattan</td>\n",
       "      <td>1</td>\n",
       "      <td>1032605</td>\n",
       "      <td>1.012260e+09</td>\n",
       "      <td>...</td>\n",
       "      <td>0</td>\n",
       "      <td>None</td>\n",
       "      <td>None</td>\n",
       "      <td>40.792725</td>\n",
       "      <td>-73.968687</td>\n",
       "      <td>9.929205e+05</td>\n",
       "      <td>228089.599338</td>\n",
       "      <td>dohmh_daycare</td>\n",
       "      <td>e3cf686d5648b4f9e532ac1b8b37a95f</td>\n",
       "      <td>POINT (992920.856 228086.585)</td>\n",
       "    </tr>\n",
       "    <tr>\n",
       "      <th>4</th>\n",
       "      <td>(CLOSED) ARLINGTON LIBRARY</td>\n",
       "      <td>203</td>\n",
       "      <td>ARLINGTON AVENUE</td>\n",
       "      <td>203 ARLINGTON AVENUE</td>\n",
       "      <td>BROOKLYN</td>\n",
       "      <td>11207</td>\n",
       "      <td>Brooklyn</td>\n",
       "      <td>3</td>\n",
       "      <td>3087001</td>\n",
       "      <td>3.039230e+09</td>\n",
       "      <td>...</td>\n",
       "      <td>0</td>\n",
       "      <td>None</td>\n",
       "      <td>None</td>\n",
       "      <td>40.680686</td>\n",
       "      <td>-73.887233</td>\n",
       "      <td>1.015527e+06</td>\n",
       "      <td>187288.664186</td>\n",
       "      <td>bpl_libraries</td>\n",
       "      <td>1ede4f0bbd4ee876b5a610bcefdf7bad</td>\n",
       "      <td>POINT (1015527.637 187285.657)</td>\n",
       "    </tr>\n",
       "  </tbody>\n",
       "</table>\n",
       "<p>5 rows × 37 columns</p>\n",
       "</div>"
      ],
      "text/plain": [
       "                                         FACNAME ADDRESSNUM        STREETNAME  \\\n",
       "0                            ENGINE 96/LADDER 54       1689      STORY AVENUE   \n",
       "1                  SAM CONSULTING SERVICES, INC.       1723    EAST 12 STREET   \n",
       "2  \"UNCLE\" VITO F. MARANZANO GLENDALE PLAYGROUND       2869    CENTRAL AVENUE   \n",
       "3                              THE STUDIO SCHOOL        117    WEST 95 STREET   \n",
       "4                     (CLOSED) ARLINGTON LIBRARY        203  ARLINGTON AVENUE   \n",
       "\n",
       "                ADDRESS       CITY ZIPCODE       BORO  BOROCODE      BIN  \\\n",
       "0     1689 STORY AVENUE      BRONX   10473      Bronx         2  2022629   \n",
       "1   1723 EAST 12 STREET   BROOKLYN   11229   Brooklyn         3  3329266   \n",
       "2   2869 CENTRAL AVENUE  RIDGEWOOD   11385     Queens         4  4089051   \n",
       "3    117 WEST 95 STREET   NEW YORK   10025  Manhattan         1  1032605   \n",
       "4  203 ARLINGTON AVENUE   BROOKLYN   11207   Brooklyn         3  3087001   \n",
       "\n",
       "            BBL  ...  CAPACITY CAPTYPE  PROPTYPE   LATITUDE  LONGITUDE  \\\n",
       "0  2.036600e+09  ...         0    None      None  40.823020 -73.869342   \n",
       "1  3.067950e+09  ...         0    None      None  40.607351 -73.960579   \n",
       "2  4.036610e+09  ...         0    None      None  40.704931 -73.881757   \n",
       "3  1.012260e+09  ...         0    None      None  40.792725 -73.968687   \n",
       "4  3.039230e+09  ...         0    None      None  40.680686 -73.887233   \n",
       "\n",
       "         XCOORD         YCOORD                DATASOURCE  \\\n",
       "0  1.020412e+06  239152.369216           fdny_firehouses   \n",
       "1  9.951960e+05  160553.378254  nysed_activeinstitutions   \n",
       "2  1.017034e+06  196123.976233       dpr_parksproperties   \n",
       "3  9.929205e+05  228089.599338             dohmh_daycare   \n",
       "4  1.015527e+06  187288.664186             bpl_libraries   \n",
       "\n",
       "                                UID                        geometry  \n",
       "0  151b0155ff655590430216bbcb20df4b  POINT (1020412.567 239149.352)  \n",
       "1  79b0edacfda9269eaea9f8aa4e629cd9   POINT (995196.385 160550.377)  \n",
       "2  1ac6da16a9d1325bb4ac9fce32ac0160  POINT (1017034.476 196120.967)  \n",
       "3  e3cf686d5648b4f9e532ac1b8b37a95f   POINT (992920.856 228086.585)  \n",
       "4  1ede4f0bbd4ee876b5a610bcefdf7bad  POINT (1015527.637 187285.657)  \n",
       "\n",
       "[5 rows x 37 columns]"
      ]
     },
     "execution_count": 22,
     "metadata": {},
     "output_type": "execute_result"
    }
   ],
   "source": [
    "gdf_ano.info()\n",
    "gdf_ano.head()"
   ]
  },
  {
   "cell_type": "code",
   "execution_count": 23,
   "metadata": {},
   "outputs": [],
   "source": [
    "########attention please!!!!!!!!from gdf_ano, ]\n",
    "coord = gdf_ano[['ZIPCODE','LATITUDE','LONGITUDE','ADDRESS']]"
   ]
  },
  {
   "cell_type": "code",
   "execution_count": 24,
   "metadata": {},
   "outputs": [
    {
     "name": "stdout",
     "output_type": "stream",
     "text": [
      "<class 'pandas.core.frame.DataFrame'>\n",
      "RangeIndex: 30930 entries, 0 to 30929\n",
      "Data columns (total 4 columns):\n",
      " #   Column     Non-Null Count  Dtype  \n",
      "---  ------     --------------  -----  \n",
      " 0   ZIPCODE    30538 non-null  object \n",
      " 1   LATITUDE   30930 non-null  float64\n",
      " 2   LONGITUDE  30930 non-null  float64\n",
      " 3   ADDRESS    25145 non-null  object \n",
      "dtypes: float64(2), object(2)\n",
      "memory usage: 966.7+ KB\n"
     ]
    },
    {
     "data": {
      "text/html": [
       "<div>\n",
       "<style scoped>\n",
       "    .dataframe tbody tr th:only-of-type {\n",
       "        vertical-align: middle;\n",
       "    }\n",
       "\n",
       "    .dataframe tbody tr th {\n",
       "        vertical-align: top;\n",
       "    }\n",
       "\n",
       "    .dataframe thead th {\n",
       "        text-align: right;\n",
       "    }\n",
       "</style>\n",
       "<table border=\"1\" class=\"dataframe\">\n",
       "  <thead>\n",
       "    <tr style=\"text-align: right;\">\n",
       "      <th></th>\n",
       "      <th>ZIPCODE</th>\n",
       "      <th>LATITUDE</th>\n",
       "      <th>LONGITUDE</th>\n",
       "      <th>ADDRESS</th>\n",
       "    </tr>\n",
       "  </thead>\n",
       "  <tbody>\n",
       "    <tr>\n",
       "      <th>0</th>\n",
       "      <td>10473</td>\n",
       "      <td>40.823020</td>\n",
       "      <td>-73.869342</td>\n",
       "      <td>1689 STORY AVENUE</td>\n",
       "    </tr>\n",
       "    <tr>\n",
       "      <th>1</th>\n",
       "      <td>11229</td>\n",
       "      <td>40.607351</td>\n",
       "      <td>-73.960579</td>\n",
       "      <td>1723 EAST 12 STREET</td>\n",
       "    </tr>\n",
       "    <tr>\n",
       "      <th>2</th>\n",
       "      <td>11385</td>\n",
       "      <td>40.704931</td>\n",
       "      <td>-73.881757</td>\n",
       "      <td>2869 CENTRAL AVENUE</td>\n",
       "    </tr>\n",
       "    <tr>\n",
       "      <th>3</th>\n",
       "      <td>10025</td>\n",
       "      <td>40.792725</td>\n",
       "      <td>-73.968687</td>\n",
       "      <td>117 WEST 95 STREET</td>\n",
       "    </tr>\n",
       "    <tr>\n",
       "      <th>4</th>\n",
       "      <td>11207</td>\n",
       "      <td>40.680686</td>\n",
       "      <td>-73.887233</td>\n",
       "      <td>203 ARLINGTON AVENUE</td>\n",
       "    </tr>\n",
       "  </tbody>\n",
       "</table>\n",
       "</div>"
      ],
      "text/plain": [
       "  ZIPCODE   LATITUDE  LONGITUDE               ADDRESS\n",
       "0   10473  40.823020 -73.869342     1689 STORY AVENUE\n",
       "1   11229  40.607351 -73.960579   1723 EAST 12 STREET\n",
       "2   11385  40.704931 -73.881757   2869 CENTRAL AVENUE\n",
       "3   10025  40.792725 -73.968687    117 WEST 95 STREET\n",
       "4   11207  40.680686 -73.887233  203 ARLINGTON AVENUE"
      ]
     },
     "execution_count": 24,
     "metadata": {},
     "output_type": "execute_result"
    }
   ],
   "source": [
    "coord.info()\n",
    "coord.head()"
   ]
  },
  {
   "cell_type": "code",
   "execution_count": 25,
   "metadata": {},
   "outputs": [],
   "source": [
    "#######try to merge this with df_raw"
   ]
  },
  {
   "cell_type": "code",
   "execution_count": 26,
   "metadata": {},
   "outputs": [],
   "source": [
    "coord.to_csv('coord.csv',index=False,header=False)"
   ]
  },
  {
   "cell_type": "code",
   "execution_count": 27,
   "metadata": {},
   "outputs": [
    {
     "data": {
      "text/plain": [
       "array(['10473', '11229', '11385', '10025', '11207', '11238', '11219',\n",
       "       '11201', '11216', '11212', '11231', '11208', '11228', '11213',\n",
       "       '11234', '11223', '11236', '11218', '11211', '11230', '11217',\n",
       "       '11203', '11204', '11233', '11235', '11232', '11214', '10004',\n",
       "       '10314', '10029', '10017', '10006', '10075', '10005', '10002',\n",
       "       '10010', '10023', '10007', '10038', '11369', '10128', '10011',\n",
       "       '10468', '10178', '10069', '10018', '10460', '10039', '10451',\n",
       "       '10028', '11432', '10013', '11365', '11101', '10456', '10009',\n",
       "       '10003', '10022', '10036', '10452', '11372', '10026', '10035',\n",
       "       '10001', '10462', '10301', '10306', '10065', '10014', '10027',\n",
       "       '10020', '10019', '11205', '10016', '10105', None, '10031',\n",
       "       '11435', '11249', '11226', '11357', '10032', '10461', '11215',\n",
       "       '10021', '10453', '11225', '10033', '10458', '11222', '10040',\n",
       "       '11368', '11209', '10034', '10024', '11237', '11375', '11413',\n",
       "       '10470', '10466', '10463', '10167', '10305', '10012', '11239',\n",
       "       '10469', '11224', '11694', '11206', '10030', '10280', '10154',\n",
       "       '10037', '10303', '10454', '10459', '10457', '11220', '11373',\n",
       "       '10467', '10103', '10041', '10153', '11354', '11377', '11221',\n",
       "       '10106', '11434', '10474', '11355', '11428', '11433', '11106',\n",
       "       '11378', '11356', '11420', '11429', '10455', '11411', '11102',\n",
       "       '11691', '11415', '10310', '11210', '11363', '10044', '10307',\n",
       "       '10475', '11412', '10304', '11366', '11364', '11367', '11427',\n",
       "       '11417', '11105', '11362', '10309', '10302', '11379', '11423',\n",
       "       '11374', '11692', '11418', '11426', '10271', '11436', '10472',\n",
       "       '11361', '11104', '10464', '10279', '10122', '11416', '11360',\n",
       "       '11370', '10312', '11358', '10155', '11103', '11414', '10282',\n",
       "       '11693', '11359', '10179', '10308', '10471', '11430', '11419',\n",
       "       '10465', '11422', '11251', '11241', '11004', '10169', '11421',\n",
       "       '00083', '10111', '11697', '11001', '11109', '10118', '10162',\n",
       "       '10168', '10123', '10107', '11695', '10170', '10119', '11096',\n",
       "       '10173', '11371', '11005', '11040', '10115', '10172', '10281',\n",
       "       '10055', '11451', '10152', '10121', '10171'], dtype=object)"
      ]
     },
     "execution_count": 27,
     "metadata": {},
     "output_type": "execute_result"
    }
   ],
   "source": [
    "coord['ZIPCODE'].unique()"
   ]
  },
  {
   "cell_type": "code",
   "execution_count": 28,
   "metadata": {},
   "outputs": [],
   "source": [
    "#####loading the coord again "
   ]
  },
  {
   "cell_type": "code",
   "execution_count": 29,
   "metadata": {},
   "outputs": [],
   "source": [
    "df_new = pd.read_csv('mean_hp.csv')"
   ]
  },
  {
   "cell_type": "code",
   "execution_count": 30,
   "metadata": {},
   "outputs": [
    {
     "name": "stdout",
     "output_type": "stream",
     "text": [
      "<class 'pandas.core.frame.DataFrame'>\n",
      "RangeIndex: 175 entries, 0 to 174\n",
      "Data columns (total 10 columns):\n",
      " #   Column             Non-Null Count  Dtype  \n",
      "---  ------             --------------  -----  \n",
      " 0   ZIPCODE            175 non-null    int64  \n",
      " 1   TOTAL UNITS        175 non-null    float64\n",
      " 2   LAND SQUARE FEET   175 non-null    float64\n",
      " 3   GROSS SQUARE FEET  175 non-null    float64\n",
      " 4   YEAR BUILT         175 non-null    float64\n",
      " 5   RESIDENTIAL UNITS  175 non-null    float64\n",
      " 6   COMMERCIAL UNITS   175 non-null    float64\n",
      " 7   LATITUDE           175 non-null    float64\n",
      " 8   LONGITUDE          175 non-null    float64\n",
      " 9   SALE PRICE         175 non-null    float64\n",
      "dtypes: float64(9), int64(1)\n",
      "memory usage: 13.8 KB\n"
     ]
    }
   ],
   "source": [
    "df_new.info()"
   ]
  },
  {
   "cell_type": "code",
   "execution_count": 31,
   "metadata": {},
   "outputs": [],
   "source": [
    "#####add a boxplot and distribution plot, "
   ]
  },
  {
   "cell_type": "code",
   "execution_count": 32,
   "metadata": {},
   "outputs": [],
   "source": [
    "#####OLS as the basis regression model, GWR with map, and sklearn with LinearSVC. \n",
    "#####SVC example available from: https://scikit-learn.org/stable/modules/generated/sklearn.svm.LinearSVC.html?highlight=linearsvc#sklearn.svm.LinearSVC\n",
    "######AIC,R^2 as the benchmark. "
   ]
  },
  {
   "cell_type": "code",
   "execution_count": 33,
   "metadata": {},
   "outputs": [],
   "source": [
    "########set up the OLS model\n",
    "df_new = df_new[~df_new['SALE PRICE'].isin(['0'])]\n",
    "df_new = df_new[~df_new['TOTAL UNITS'].isin(['0'])]"
   ]
  },
  {
   "cell_type": "code",
   "execution_count": 34,
   "metadata": {},
   "outputs": [
    {
     "name": "stdout",
     "output_type": "stream",
     "text": [
      "<class 'pandas.core.frame.DataFrame'>\n",
      "Int64Index: 175 entries, 0 to 174\n",
      "Data columns (total 10 columns):\n",
      " #   Column             Non-Null Count  Dtype  \n",
      "---  ------             --------------  -----  \n",
      " 0   ZIPCODE            175 non-null    int64  \n",
      " 1   TOTAL UNITS        175 non-null    float64\n",
      " 2   LAND SQUARE FEET   175 non-null    float64\n",
      " 3   GROSS SQUARE FEET  175 non-null    float64\n",
      " 4   YEAR BUILT         175 non-null    float64\n",
      " 5   RESIDENTIAL UNITS  175 non-null    float64\n",
      " 6   COMMERCIAL UNITS   175 non-null    float64\n",
      " 7   LATITUDE           175 non-null    float64\n",
      " 8   LONGITUDE          175 non-null    float64\n",
      " 9   SALE PRICE         175 non-null    float64\n",
      "dtypes: float64(9), int64(1)\n",
      "memory usage: 15.0 KB\n"
     ]
    }
   ],
   "source": [
    "df_new.info()"
   ]
  },
  {
   "cell_type": "code",
   "execution_count": 35,
   "metadata": {},
   "outputs": [
    {
     "data": {
      "text/html": [
       "<div>\n",
       "<style scoped>\n",
       "    .dataframe tbody tr th:only-of-type {\n",
       "        vertical-align: middle;\n",
       "    }\n",
       "\n",
       "    .dataframe tbody tr th {\n",
       "        vertical-align: top;\n",
       "    }\n",
       "\n",
       "    .dataframe thead th {\n",
       "        text-align: right;\n",
       "    }\n",
       "</style>\n",
       "<table border=\"1\" class=\"dataframe\">\n",
       "  <thead>\n",
       "    <tr style=\"text-align: right;\">\n",
       "      <th></th>\n",
       "      <th>ZIPCODE</th>\n",
       "      <th>TOTAL UNITS</th>\n",
       "      <th>LAND SQUARE FEET</th>\n",
       "      <th>GROSS SQUARE FEET</th>\n",
       "      <th>YEAR BUILT</th>\n",
       "      <th>RESIDENTIAL UNITS</th>\n",
       "      <th>COMMERCIAL UNITS</th>\n",
       "      <th>LATITUDE</th>\n",
       "      <th>LONGITUDE</th>\n",
       "      <th>SALE PRICE</th>\n",
       "    </tr>\n",
       "  </thead>\n",
       "  <tbody>\n",
       "    <tr>\n",
       "      <th>count</th>\n",
       "      <td>175.000000</td>\n",
       "      <td>175.000000</td>\n",
       "      <td>1.750000e+02</td>\n",
       "      <td>175.000000</td>\n",
       "      <td>175.000000</td>\n",
       "      <td>175.000000</td>\n",
       "      <td>175.000000</td>\n",
       "      <td>175.000000</td>\n",
       "      <td>175.000000</td>\n",
       "      <td>1.750000e+02</td>\n",
       "    </tr>\n",
       "    <tr>\n",
       "      <th>mean</th>\n",
       "      <td>10818.662857</td>\n",
       "      <td>7.358457</td>\n",
       "      <td>1.533537e+04</td>\n",
       "      <td>19487.246629</td>\n",
       "      <td>1936.829257</td>\n",
       "      <td>6.095714</td>\n",
       "      <td>1.263257</td>\n",
       "      <td>40.722683</td>\n",
       "      <td>-73.914457</td>\n",
       "      <td>5.779200e+06</td>\n",
       "    </tr>\n",
       "    <tr>\n",
       "      <th>std</th>\n",
       "      <td>573.131422</td>\n",
       "      <td>19.494177</td>\n",
       "      <td>1.318778e+05</td>\n",
       "      <td>69835.283235</td>\n",
       "      <td>18.116434</td>\n",
       "      <td>18.567385</td>\n",
       "      <td>5.636247</td>\n",
       "      <td>0.098809</td>\n",
       "      <td>0.101662</td>\n",
       "      <td>1.436443e+07</td>\n",
       "    </tr>\n",
       "    <tr>\n",
       "      <th>min</th>\n",
       "      <td>10001.000000</td>\n",
       "      <td>1.000000</td>\n",
       "      <td>1.602000e+03</td>\n",
       "      <td>1303.540000</td>\n",
       "      <td>1902.510000</td>\n",
       "      <td>0.000000</td>\n",
       "      <td>0.000000</td>\n",
       "      <td>40.010000</td>\n",
       "      <td>-74.240000</td>\n",
       "      <td>4.771840e+05</td>\n",
       "    </tr>\n",
       "    <tr>\n",
       "      <th>25%</th>\n",
       "      <td>10303.500000</td>\n",
       "      <td>1.525000</td>\n",
       "      <td>2.860465e+03</td>\n",
       "      <td>2051.120000</td>\n",
       "      <td>1924.225000</td>\n",
       "      <td>1.360000</td>\n",
       "      <td>0.060000</td>\n",
       "      <td>40.675000</td>\n",
       "      <td>-73.980000</td>\n",
       "      <td>7.956630e+05</td>\n",
       "    </tr>\n",
       "    <tr>\n",
       "      <th>50%</th>\n",
       "      <td>11201.000000</td>\n",
       "      <td>2.550000</td>\n",
       "      <td>3.530230e+03</td>\n",
       "      <td>3228.330000</td>\n",
       "      <td>1935.960000</td>\n",
       "      <td>2.170000</td>\n",
       "      <td>0.160000</td>\n",
       "      <td>40.730000</td>\n",
       "      <td>-73.920000</td>\n",
       "      <td>1.377860e+06</td>\n",
       "    </tr>\n",
       "    <tr>\n",
       "      <th>75%</th>\n",
       "      <td>11360.500000</td>\n",
       "      <td>5.620000</td>\n",
       "      <td>4.687335e+03</td>\n",
       "      <td>8567.985000</td>\n",
       "      <td>1945.440000</td>\n",
       "      <td>4.255000</td>\n",
       "      <td>0.580000</td>\n",
       "      <td>40.780000</td>\n",
       "      <td>-73.840000</td>\n",
       "      <td>3.466397e+06</td>\n",
       "    </tr>\n",
       "    <tr>\n",
       "      <th>max</th>\n",
       "      <td>11694.000000</td>\n",
       "      <td>229.730000</td>\n",
       "      <td>1.743118e+06</td>\n",
       "      <td>615108.670000</td>\n",
       "      <td>2016.200000</td>\n",
       "      <td>229.370000</td>\n",
       "      <td>66.610000</td>\n",
       "      <td>40.900000</td>\n",
       "      <td>-73.710000</td>\n",
       "      <td>1.128500e+08</td>\n",
       "    </tr>\n",
       "  </tbody>\n",
       "</table>\n",
       "</div>"
      ],
      "text/plain": [
       "            ZIPCODE  TOTAL UNITS  LAND SQUARE FEET  GROSS SQUARE FEET  \\\n",
       "count    175.000000   175.000000      1.750000e+02         175.000000   \n",
       "mean   10818.662857     7.358457      1.533537e+04       19487.246629   \n",
       "std      573.131422    19.494177      1.318778e+05       69835.283235   \n",
       "min    10001.000000     1.000000      1.602000e+03        1303.540000   \n",
       "25%    10303.500000     1.525000      2.860465e+03        2051.120000   \n",
       "50%    11201.000000     2.550000      3.530230e+03        3228.330000   \n",
       "75%    11360.500000     5.620000      4.687335e+03        8567.985000   \n",
       "max    11694.000000   229.730000      1.743118e+06      615108.670000   \n",
       "\n",
       "        YEAR BUILT  RESIDENTIAL UNITS  COMMERCIAL UNITS    LATITUDE  \\\n",
       "count   175.000000         175.000000        175.000000  175.000000   \n",
       "mean   1936.829257           6.095714          1.263257   40.722683   \n",
       "std      18.116434          18.567385          5.636247    0.098809   \n",
       "min    1902.510000           0.000000          0.000000   40.010000   \n",
       "25%    1924.225000           1.360000          0.060000   40.675000   \n",
       "50%    1935.960000           2.170000          0.160000   40.730000   \n",
       "75%    1945.440000           4.255000          0.580000   40.780000   \n",
       "max    2016.200000         229.370000         66.610000   40.900000   \n",
       "\n",
       "        LONGITUDE    SALE PRICE  \n",
       "count  175.000000  1.750000e+02  \n",
       "mean   -73.914457  5.779200e+06  \n",
       "std      0.101662  1.436443e+07  \n",
       "min    -74.240000  4.771840e+05  \n",
       "25%    -73.980000  7.956630e+05  \n",
       "50%    -73.920000  1.377860e+06  \n",
       "75%    -73.840000  3.466397e+06  \n",
       "max    -73.710000  1.128500e+08  "
      ]
     },
     "execution_count": 35,
     "metadata": {},
     "output_type": "execute_result"
    }
   ],
   "source": [
    "df_new.describe()"
   ]
  },
  {
   "cell_type": "markdown",
   "metadata": {},
   "source": [
    "<font size = 6>Machine Learning step\n",
    "    </font>"
   ]
  },
  {
   "cell_type": "markdown",
   "metadata": {},
   "source": [
    "<font size = 5> OLS MODEL\n",
    "</font>"
   ]
  },
  {
   "cell_type": "code",
   "execution_count": 36,
   "metadata": {},
   "outputs": [
    {
     "data": {
      "text/plain": [
       "Text(0.5, 1.0, 'Correlation Matrix for basic regression model')"
      ]
     },
     "execution_count": 36,
     "metadata": {},
     "output_type": "execute_result"
    },
    {
     "data": {
      "image/png": "[encoded data removed]",
      "text/plain": [
       "<Figure size 1368x1080 with 2 Axes>"
      ]
     },
     "metadata": {
      "needs_background": "light"
     },
     "output_type": "display_data"
    }
   ],
   "source": [
    "######correlation matrix to test the multi-collinearity\n",
    "data = df_new.drop(['ZIPCODE','LATITUDE','LONGITUDE'],axis=1)\n",
    "plt.rcParams[\"axes.grid\"] = False\n",
    "f = plt.figure(figsize=(19, 15))\n",
    "plt.matshow(data.corr(), fignum=f.number)\n",
    "plt.xticks(range(data.shape[1]), data.columns, fontsize=14, rotation=45)\n",
    "plt.yticks(range(data.shape[1]), data.columns, fontsize=14)\n",
    "cb = plt.colorbar()\n",
    "cb.ax.tick_params(labelsize=18)\n",
    "plt.title('Correlation Matrix for basic regression model', fontsize=16)"
   ]
  },
  {
   "cell_type": "code",
   "execution_count": 37,
   "metadata": {},
   "outputs": [],
   "source": [
    "######use the vif here to eliminate the multi-collinearity"
   ]
  },
  {
   "cell_type": "code",
   "execution_count": 38,
   "metadata": {},
   "outputs": [],
   "source": [
    "# calculating VIF\n",
    "from statsmodels.stats.outliers_influence import variance_inflation_factor \n",
    "from statsmodels.tools.tools import add_constant"
   ]
  },
  {
   "cell_type": "code",
   "execution_count": 39,
   "metadata": {},
   "outputs": [],
   "source": [
    "def drop_column_using_vif_(data, list_var_not_to_remove, thresh=4):\n",
    "    '''\n",
    "    Calculates VIF each feature in a pandas dataframe, and repeatedly drop the columns with the highest VIF\n",
    "    A constant must be added to variance_inflation_factor or the results will be incorrect\n",
    "\n",
    "    :param df: the pandas dataframe containing only the predictor features, not the response variable\n",
    "    :param list_var_not_to_remove: the list of variables that should not be removed even though it has a high VIF. For example, dummy (or indicator) variables represent a categorical variable with three or more categories.\n",
    "    :param thresh: the max VIF value before the feature is removed from the dataframe\n",
    "    :return: dataframe with multicollinear features removed\n",
    "    '''\n",
    "    while True:\n",
    "        # adding a constatnt item to the data\n",
    "        data_with_const = add_constant(data)\n",
    "\n",
    "        vif_data = pd.Series([variance_inflation_factor(data_with_const.values, i) \n",
    "               for i in range(data_with_const.shape[1])], name= \"VIF\",\n",
    "              index=data_with_const.columns).to_frame()\n",
    "\n",
    "        # drop the const\n",
    "        vif_data = vif_data.drop('const').drop(list_var_not_to_remove)\n",
    "        \n",
    "        print('Max VIF:', vif_data.VIF.max())\n",
    "        \n",
    "        # if the largest VIF is above the thresh, remove a variable with the largest VIF\n",
    "        if vif_data.VIF.max() > thresh:\n",
    "            # If there are multiple variables with the maximum VIF, choose the first one\n",
    "            index_to_drop = vif_data.index[vif_data.VIF == vif_data.VIF.max()].tolist()[0]\n",
    "            print('Dropping: {}'.format(index_to_drop))\n",
    "            data = data.drop(columns = index_to_drop)\n",
    "        else:\n",
    "            # No VIF is above threshold. Exit the loop\n",
    "            break\n",
    "\n",
    "    return data"
   ]
  },
  {
   "cell_type": "code",
   "execution_count": 40,
   "metadata": {},
   "outputs": [],
   "source": [
    "# using VIF on the house price data set \n",
    "predictors_house_price = data.drop('SALE PRICE', axis=1)\n",
    "response_house = data['SALE PRICE']"
   ]
  },
  {
   "cell_type": "code",
   "execution_count": 41,
   "metadata": {},
   "outputs": [
    {
     "name": "stdout",
     "output_type": "stream",
     "text": [
      "Max VIF: 14988001.718150752\n",
      "Dropping: TOTAL UNITS\n",
      "Max VIF: 4.9065405217439375\n",
      "Dropping: LAND SQUARE FEET\n",
      "Max VIF: 1.3402932728854011\n",
      "The columns remaining after VIF selection are:\n",
      "Index(['GROSS SQUARE FEET', 'YEAR BUILT', 'RESIDENTIAL UNITS',\n",
      "       'COMMERCIAL UNITS'],\n",
      "      dtype='object')\n"
     ]
    }
   ],
   "source": [
    "# this is a list of dummy variables that represent a categorical variable with three or more categories. They should not be removed even if it has a high VIF. \n",
    "list_var_not_to_remove = []\n",
    "data_predictors_select_VIF = drop_column_using_vif_(predictors_house_price, list_var_not_to_remove, thresh=2)\n",
    "print(\"The columns remaining after VIF selection are:\") \n",
    "print(data_predictors_select_VIF.columns)"
   ]
  },
  {
   "cell_type": "code",
   "execution_count": 42,
   "metadata": {},
   "outputs": [
    {
     "data": {
      "text/plain": [
       "LinearRegression()"
      ]
     },
     "execution_count": 42,
     "metadata": {},
     "output_type": "execute_result"
    }
   ],
   "source": [
    "from sklearn.linear_model import LinearRegression\n",
    "lr = LinearRegression()\n",
    "lr.fit(X=data_predictors_select_VIF, y=response_house)"
   ]
  },
  {
   "cell_type": "code",
   "execution_count": 43,
   "metadata": {},
   "outputs": [
    {
     "name": "stdout",
     "output_type": "stream",
     "text": [
      "Constant term:  85642275.24578258\n",
      "                 var           coef\n",
      "0  GROSS SQUARE FEET     123.013364\n",
      "1         YEAR BUILT  -42176.398981\n",
      "2  RESIDENTIAL UNITS  -66826.901776\n",
      "3   COMMERCIAL UNITS -130160.398314\n"
     ]
    }
   ],
   "source": [
    "print('Constant term: ', lr.intercept_)\n",
    "df_coef_lr_VIF = pd.DataFrame({\"var\": data_predictors_select_VIF.columns.values, \"coef\":lr.coef_})\n",
    "print(df_coef_lr_VIF)"
   ]
  },
  {
   "cell_type": "code",
   "execution_count": 44,
   "metadata": {},
   "outputs": [
    {
     "name": "stdout",
     "output_type": "stream",
     "text": [
      "R2:\n"
     ]
    },
    {
     "data": {
      "text/plain": [
       "0.31477398066094775"
      ]
     },
     "execution_count": 44,
     "metadata": {},
     "output_type": "execute_result"
    }
   ],
   "source": [
    "print('R2:')\n",
    "lr.score(X=data_predictors_select_VIF, y=response_house)"
   ]
  },
  {
   "cell_type": "code",
   "execution_count": 45,
   "metadata": {},
   "outputs": [
    {
     "data": {
      "text/html": [
       "<table class=\"simpletable\">\n",
       "<caption>OLS Regression Results</caption>\n",
       "<tr>\n",
       "  <th>Dep. Variable:</th>       <td>SALE PRICE</td>    <th>  R-squared:         </th> <td>   0.315</td>\n",
       "</tr>\n",
       "<tr>\n",
       "  <th>Model:</th>                   <td>OLS</td>       <th>  Adj. R-squared:    </th> <td>   0.299</td>\n",
       "</tr>\n",
       "<tr>\n",
       "  <th>Method:</th>             <td>Least Squares</td>  <th>  F-statistic:       </th> <td>   19.52</td>\n",
       "</tr>\n",
       "<tr>\n",
       "  <th>Date:</th>             <td>Sun, 05 Sep 2021</td> <th>  Prob (F-statistic):</th> <td>3.08e-13</td>\n",
       "</tr>\n",
       "<tr>\n",
       "  <th>Time:</th>                 <td>19:33:51</td>     <th>  Log-Likelihood:    </th> <td> -3098.8</td>\n",
       "</tr>\n",
       "<tr>\n",
       "  <th>No. Observations:</th>      <td>   175</td>      <th>  AIC:               </th> <td>   6208.</td>\n",
       "</tr>\n",
       "<tr>\n",
       "  <th>Df Residuals:</th>          <td>   170</td>      <th>  BIC:               </th> <td>   6223.</td>\n",
       "</tr>\n",
       "<tr>\n",
       "  <th>Df Model:</th>              <td>     4</td>      <th>                     </th>     <td> </td>   \n",
       "</tr>\n",
       "<tr>\n",
       "  <th>Covariance Type:</th>      <td>nonrobust</td>    <th>                     </th>     <td> </td>   \n",
       "</tr>\n",
       "</table>\n",
       "<table class=\"simpletable\">\n",
       "<tr>\n",
       "          <td></td>             <th>coef</th>     <th>std err</th>      <th>t</th>      <th>P>|t|</th>  <th>[0.025</th>    <th>0.975]</th>  \n",
       "</tr>\n",
       "<tr>\n",
       "  <th>const</th>             <td> 8.564e+07</td> <td> 9.82e+07</td> <td>    0.872</td> <td> 0.385</td> <td>-1.08e+08</td> <td>  2.8e+08</td>\n",
       "</tr>\n",
       "<tr>\n",
       "  <th>GROSS SQUARE FEET</th> <td>  123.0134</td> <td>   15.118</td> <td>    8.137</td> <td> 0.000</td> <td>   93.169</td> <td>  152.857</td>\n",
       "</tr>\n",
       "<tr>\n",
       "  <th>YEAR BUILT</th>        <td>-4.218e+04</td> <td> 5.07e+04</td> <td>   -0.831</td> <td> 0.407</td> <td>-1.42e+05</td> <td>  5.8e+04</td>\n",
       "</tr>\n",
       "<tr>\n",
       "  <th>RESIDENTIAL UNITS</th> <td>-6.683e+04</td> <td> 5.11e+04</td> <td>   -1.309</td> <td> 0.192</td> <td>-1.68e+05</td> <td> 3.39e+04</td>\n",
       "</tr>\n",
       "<tr>\n",
       "  <th>COMMERCIAL UNITS</th>  <td>-1.302e+05</td> <td> 1.82e+05</td> <td>   -0.717</td> <td> 0.475</td> <td>-4.89e+05</td> <td> 2.28e+05</td>\n",
       "</tr>\n",
       "</table>\n",
       "<table class=\"simpletable\">\n",
       "<tr>\n",
       "  <th>Omnibus:</th>       <td>162.598</td> <th>  Durbin-Watson:     </th> <td>   0.958</td>\n",
       "</tr>\n",
       "<tr>\n",
       "  <th>Prob(Omnibus):</th> <td> 0.000</td>  <th>  Jarque-Bera (JB):  </th> <td>4187.788</td>\n",
       "</tr>\n",
       "<tr>\n",
       "  <th>Skew:</th>          <td> 3.266</td>  <th>  Prob(JB):          </th> <td>    0.00</td>\n",
       "</tr>\n",
       "<tr>\n",
       "  <th>Kurtosis:</th>      <td>26.057</td>  <th>  Cond. No.          </th> <td>7.81e+06</td>\n",
       "</tr>\n",
       "</table><br/><br/>Notes:<br/>[1] Standard Errors assume that the covariance matrix of the errors is correctly specified.<br/>[2] The condition number is large, 7.81e+06. This might indicate that there are<br/>strong multicollinearity or other numerical problems."
      ],
      "text/plain": [
       "<class 'statsmodels.iolib.summary.Summary'>\n",
       "\"\"\"\n",
       "                            OLS Regression Results                            \n",
       "==============================================================================\n",
       "Dep. Variable:             SALE PRICE   R-squared:                       0.315\n",
       "Model:                            OLS   Adj. R-squared:                  0.299\n",
       "Method:                 Least Squares   F-statistic:                     19.52\n",
       "Date:                Sun, 05 Sep 2021   Prob (F-statistic):           3.08e-13\n",
       "Time:                        19:33:51   Log-Likelihood:                -3098.8\n",
       "No. Observations:                 175   AIC:                             6208.\n",
       "Df Residuals:                     170   BIC:                             6223.\n",
       "Df Model:                           4                                         \n",
       "Covariance Type:            nonrobust                                         \n",
       "=====================================================================================\n",
       "                        coef    std err          t      P>|t|      [0.025      0.975]\n",
       "-------------------------------------------------------------------------------------\n",
       "const              8.564e+07   9.82e+07      0.872      0.385   -1.08e+08     2.8e+08\n",
       "GROSS SQUARE FEET   123.0134     15.118      8.137      0.000      93.169     152.857\n",
       "YEAR BUILT        -4.218e+04   5.07e+04     -0.831      0.407   -1.42e+05     5.8e+04\n",
       "RESIDENTIAL UNITS -6.683e+04   5.11e+04     -1.309      0.192   -1.68e+05    3.39e+04\n",
       "COMMERCIAL UNITS  -1.302e+05   1.82e+05     -0.717      0.475   -4.89e+05    2.28e+05\n",
       "==============================================================================\n",
       "Omnibus:                      162.598   Durbin-Watson:                   0.958\n",
       "Prob(Omnibus):                  0.000   Jarque-Bera (JB):             4187.788\n",
       "Skew:                           3.266   Prob(JB):                         0.00\n",
       "Kurtosis:                      26.057   Cond. No.                     7.81e+06\n",
       "==============================================================================\n",
       "\n",
       "Notes:\n",
       "[1] Standard Errors assume that the covariance matrix of the errors is correctly specified.\n",
       "[2] The condition number is large, 7.81e+06. This might indicate that there are\n",
       "strong multicollinearity or other numerical problems.\n",
       "\"\"\""
      ]
     },
     "execution_count": 45,
     "metadata": {},
     "output_type": "execute_result"
    }
   ],
   "source": [
    "import statsmodels.api as sm\n",
    "# fit a lineare regression model using statsmodel\n",
    "regressor_OLS = sm.OLS(endog=response_house, exog=sm.add_constant(data_predictors_select_VIF)).fit()\n",
    "regressor_OLS.summary()"
   ]
  },
  {
   "cell_type": "code",
   "execution_count": 46,
   "metadata": {},
   "outputs": [
    {
     "data": {
      "text/plain": [
       "5779199.7488870155"
      ]
     },
     "execution_count": 46,
     "metadata": {},
     "output_type": "execute_result"
    }
   ],
   "source": [
    "mean_ols = regressor_OLS.predict()    ######记得求均值方差！！！！\n",
    "mean_ols.mean()#######m"
   ]
  },
  {
   "cell_type": "markdown",
   "metadata": {},
   "source": [
    "<font size = 5> GWR model:\n",
    "    </font>"
   ]
  },
  {
   "cell_type": "code",
   "execution_count": 47,
   "metadata": {},
   "outputs": [
    {
     "name": "stdout",
     "output_type": "stream",
     "text": [
      "<class 'geopandas.geodataframe.GeoDataFrame'>\n",
      "Int64Index: 263 entries, 0 to 262\n",
      "Data columns (total 13 columns):\n",
      " #   Column      Non-Null Count  Dtype   \n",
      "---  ------      --------------  -----   \n",
      " 0   ZIPCODE     263 non-null    object  \n",
      " 1   BLDGZIP     263 non-null    object  \n",
      " 2   PO_NAME     263 non-null    object  \n",
      " 3   POPULATION  263 non-null    float64 \n",
      " 4   AREA        263 non-null    float64 \n",
      " 5   STATE       263 non-null    object  \n",
      " 6   COUNTY      263 non-null    object  \n",
      " 7   ST_FIPS     263 non-null    object  \n",
      " 8   CTY_FIPS    263 non-null    object  \n",
      " 9   URL         263 non-null    object  \n",
      " 10  SHAPE_AREA  263 non-null    float64 \n",
      " 11  SHAPE_LEN   263 non-null    float64 \n",
      " 12  geometry    263 non-null    geometry\n",
      "dtypes: float64(4), geometry(1), object(8)\n",
      "memory usage: 28.8+ KB\n"
     ]
    },
    {
     "data": {
      "text/html": [
       "<div>\n",
       "<style scoped>\n",
       "    .dataframe tbody tr th:only-of-type {\n",
       "        vertical-align: middle;\n",
       "    }\n",
       "\n",
       "    .dataframe tbody tr th {\n",
       "        vertical-align: top;\n",
       "    }\n",
       "\n",
       "    .dataframe thead th {\n",
       "        text-align: right;\n",
       "    }\n",
       "</style>\n",
       "<table border=\"1\" class=\"dataframe\">\n",
       "  <thead>\n",
       "    <tr style=\"text-align: right;\">\n",
       "      <th></th>\n",
       "      <th>ZIPCODE</th>\n",
       "      <th>BLDGZIP</th>\n",
       "      <th>PO_NAME</th>\n",
       "      <th>POPULATION</th>\n",
       "      <th>AREA</th>\n",
       "      <th>STATE</th>\n",
       "      <th>COUNTY</th>\n",
       "      <th>ST_FIPS</th>\n",
       "      <th>CTY_FIPS</th>\n",
       "      <th>URL</th>\n",
       "      <th>SHAPE_AREA</th>\n",
       "      <th>SHAPE_LEN</th>\n",
       "      <th>geometry</th>\n",
       "    </tr>\n",
       "  </thead>\n",
       "  <tbody>\n",
       "    <tr>\n",
       "      <th>0</th>\n",
       "      <td>11436</td>\n",
       "      <td>0</td>\n",
       "      <td>Jamaica</td>\n",
       "      <td>18681.0</td>\n",
       "      <td>2.269930e+07</td>\n",
       "      <td>NY</td>\n",
       "      <td>Queens</td>\n",
       "      <td>36</td>\n",
       "      <td>081</td>\n",
       "      <td>http://www.usps.com/</td>\n",
       "      <td>0.0</td>\n",
       "      <td>0.0</td>\n",
       "      <td>POLYGON ((1038098.252 188138.380, 1038141.936 ...</td>\n",
       "    </tr>\n",
       "    <tr>\n",
       "      <th>1</th>\n",
       "      <td>11213</td>\n",
       "      <td>0</td>\n",
       "      <td>Brooklyn</td>\n",
       "      <td>62426.0</td>\n",
       "      <td>2.963100e+07</td>\n",
       "      <td>NY</td>\n",
       "      <td>Kings</td>\n",
       "      <td>36</td>\n",
       "      <td>047</td>\n",
       "      <td>http://www.usps.com/</td>\n",
       "      <td>0.0</td>\n",
       "      <td>0.0</td>\n",
       "      <td>POLYGON ((1001613.713 186926.440, 1002314.243 ...</td>\n",
       "    </tr>\n",
       "    <tr>\n",
       "      <th>2</th>\n",
       "      <td>11212</td>\n",
       "      <td>0</td>\n",
       "      <td>Brooklyn</td>\n",
       "      <td>83866.0</td>\n",
       "      <td>4.197210e+07</td>\n",
       "      <td>NY</td>\n",
       "      <td>Kings</td>\n",
       "      <td>36</td>\n",
       "      <td>047</td>\n",
       "      <td>http://www.usps.com/</td>\n",
       "      <td>0.0</td>\n",
       "      <td>0.0</td>\n",
       "      <td>POLYGON ((1011174.276 183696.338, 1011373.584 ...</td>\n",
       "    </tr>\n",
       "    <tr>\n",
       "      <th>3</th>\n",
       "      <td>11225</td>\n",
       "      <td>0</td>\n",
       "      <td>Brooklyn</td>\n",
       "      <td>56527.0</td>\n",
       "      <td>2.369863e+07</td>\n",
       "      <td>NY</td>\n",
       "      <td>Kings</td>\n",
       "      <td>36</td>\n",
       "      <td>047</td>\n",
       "      <td>http://www.usps.com/</td>\n",
       "      <td>0.0</td>\n",
       "      <td>0.0</td>\n",
       "      <td>POLYGON ((995908.365 183617.613, 996522.848 18...</td>\n",
       "    </tr>\n",
       "    <tr>\n",
       "      <th>4</th>\n",
       "      <td>11218</td>\n",
       "      <td>0</td>\n",
       "      <td>Brooklyn</td>\n",
       "      <td>72280.0</td>\n",
       "      <td>3.686880e+07</td>\n",
       "      <td>NY</td>\n",
       "      <td>Kings</td>\n",
       "      <td>36</td>\n",
       "      <td>047</td>\n",
       "      <td>http://www.usps.com/</td>\n",
       "      <td>0.0</td>\n",
       "      <td>0.0</td>\n",
       "      <td>POLYGON ((991997.113 176307.496, 992042.798 17...</td>\n",
       "    </tr>\n",
       "  </tbody>\n",
       "</table>\n",
       "</div>"
      ],
      "text/plain": [
       "  ZIPCODE BLDGZIP   PO_NAME  POPULATION          AREA STATE  COUNTY ST_FIPS  \\\n",
       "0   11436       0   Jamaica     18681.0  2.269930e+07    NY  Queens      36   \n",
       "1   11213       0  Brooklyn     62426.0  2.963100e+07    NY   Kings      36   \n",
       "2   11212       0  Brooklyn     83866.0  4.197210e+07    NY   Kings      36   \n",
       "3   11225       0  Brooklyn     56527.0  2.369863e+07    NY   Kings      36   \n",
       "4   11218       0  Brooklyn     72280.0  3.686880e+07    NY   Kings      36   \n",
       "\n",
       "  CTY_FIPS                   URL  SHAPE_AREA  SHAPE_LEN  \\\n",
       "0      081  http://www.usps.com/         0.0        0.0   \n",
       "1      047  http://www.usps.com/         0.0        0.0   \n",
       "2      047  http://www.usps.com/         0.0        0.0   \n",
       "3      047  http://www.usps.com/         0.0        0.0   \n",
       "4      047  http://www.usps.com/         0.0        0.0   \n",
       "\n",
       "                                            geometry  \n",
       "0  POLYGON ((1038098.252 188138.380, 1038141.936 ...  \n",
       "1  POLYGON ((1001613.713 186926.440, 1002314.243 ...  \n",
       "2  POLYGON ((1011174.276 183696.338, 1011373.584 ...  \n",
       "3  POLYGON ((995908.365 183617.613, 996522.848 18...  \n",
       "4  POLYGON ((991997.113 176307.496, 992042.798 17...  "
      ]
     },
     "execution_count": 47,
     "metadata": {},
     "output_type": "execute_result"
    }
   ],
   "source": [
    "#####recall: gdf_raw(with map);df_new(price)\n",
    "gdf_raw.info()\n",
    "gdf_raw.head()"
   ]
  },
  {
   "cell_type": "code",
   "execution_count": 48,
   "metadata": {},
   "outputs": [],
   "source": [
    "#########import pkg before runnning the model. \n",
    "import numpy as np\n",
    "import libpysal as ps\n",
    "from mgwr.gwr import GWR, MGWR\n",
    "from mgwr.sel_bw import Sel_BW\n",
    "import geopandas as gpd\n",
    "import matplotlib.pyplot as plt\n",
    "import matplotlib as mpl\n",
    "import pandas as pd"
   ]
  },
  {
   "cell_type": "code",
   "execution_count": 49,
   "metadata": {},
   "outputs": [
    {
     "name": "stdout",
     "output_type": "stream",
     "text": [
      "<class 'pandas.core.frame.DataFrame'>\n",
      "RangeIndex: 175 entries, 0 to 174\n",
      "Data columns (total 2 columns):\n",
      " #   Column      Non-Null Count  Dtype  \n",
      "---  ------      --------------  -----  \n",
      " 0   ZIPCODE     175 non-null    int64  \n",
      " 1   SALE PRICE  175 non-null    float64\n",
      "dtypes: float64(1), int64(1)\n",
      "memory usage: 2.9 KB\n"
     ]
    }
   ],
   "source": [
    "####before visualisation the data, we should insert the sale price data from df_new to gdf_raw. \n",
    "insert_price = pd.read_csv('mean_hp.csv',usecols = (0,9))\n",
    "insert_price.info()\n",
    "insert_price.to_csv('insert_price.csv')"
   ]
  },
  {
   "cell_type": "code",
   "execution_count": 50,
   "metadata": {},
   "outputs": [],
   "source": [
    "test_geo = gpd.read_file('ZIP_CODE_040114.shp',usecols = ['ZIPCODE'])\n",
    "test_geo['ZIPCODE']=pd.to_numeric(test_geo['ZIPCODE'],errors='coerce')\n",
    "test = test_geo.iloc[:,0]\n",
    "test.to_csv('ZIPCODE.csv')"
   ]
  },
  {
   "cell_type": "code",
   "execution_count": 51,
   "metadata": {},
   "outputs": [
    {
     "name": "stdout",
     "output_type": "stream",
     "text": [
      "<class 'pandas.core.frame.DataFrame'>\n",
      "RangeIndex: 263 entries, 0 to 262\n",
      "Data columns (total 2 columns):\n",
      " #   Column  Non-Null Count  Dtype  \n",
      "---  ------  --------------  -----  \n",
      " 0   ZIP     263 non-null    int64  \n",
      " 1   PRICE   263 non-null    float64\n",
      "dtypes: float64(1), int64(1)\n",
      "memory usage: 4.2 KB\n"
     ]
    }
   ],
   "source": [
    "#######merge the data here\n",
    "df_test = pd.read_csv('TEST.csv')\n",
    "df_test.info()"
   ]
  },
  {
   "cell_type": "code",
   "execution_count": 52,
   "metadata": {},
   "outputs": [
    {
     "name": "stdout",
     "output_type": "stream",
     "text": [
      "<class 'geopandas.geodataframe.GeoDataFrame'>\n",
      "Int64Index: 263 entries, 0 to 262\n",
      "Data columns (total 15 columns):\n",
      " #   Column      Non-Null Count  Dtype   \n",
      "---  ------      --------------  -----   \n",
      " 0   ZIPCODE     263 non-null    object  \n",
      " 1   BLDGZIP     263 non-null    object  \n",
      " 2   PO_NAME     263 non-null    object  \n",
      " 3   POPULATION  263 non-null    float64 \n",
      " 4   AREA        263 non-null    float64 \n",
      " 5   STATE       263 non-null    object  \n",
      " 6   COUNTY      263 non-null    object  \n",
      " 7   ST_FIPS     263 non-null    object  \n",
      " 8   CTY_FIPS    263 non-null    object  \n",
      " 9   URL         263 non-null    object  \n",
      " 10  SHAPE_AREA  263 non-null    float64 \n",
      " 11  SHAPE_LEN   263 non-null    float64 \n",
      " 12  geometry    263 non-null    geometry\n",
      " 13  ZIP         263 non-null    object  \n",
      " 14  PRICE       263 non-null    float64 \n",
      "dtypes: float64(5), geometry(1), object(9)\n",
      "memory usage: 32.9+ KB\n"
     ]
    }
   ],
   "source": [
    "#####still use the object again to merge here\n",
    "####for geodata\n",
    "df_test['ZIP'] = df_test['ZIP'].astype('object')\n",
    "#####now let's merge them the last time\n",
    "####merge_data = pd.merge(gdf_raw, df_test, left_on='ZIPCODE', right_on='ZIP', how='inner')\n",
    "#####success!!!!!\n",
    "\n",
    "merge_data = pd.concat([gdf_raw,df_test],axis=1,join='inner')\n",
    "merge_data.info()"
   ]
  },
  {
   "cell_type": "code",
   "execution_count": 76,
   "metadata": {},
   "outputs": [],
   "source": [
    "#ax1 = merge_data.plot(edgecolor='black',column=\"PRICE\",cmap='GnBu',figsize=(12,12))\n",
    "######merge_data.centroid.plot(color='r',marker='o')\n",
    "#ax1.set_axis_off()"
   ]
  },
  {
   "cell_type": "code",
   "execution_count": 54,
   "metadata": {},
   "outputs": [
    {
     "data": {
      "image/png": "[encoded data removed]",
      "text/plain": [
       "<Figure size 864x504 with 2 Axes>"
      ]
     },
     "metadata": {
      "needs_background": "light"
     },
     "output_type": "display_data"
    }
   ],
   "source": [
    "#####should mapping the house price\n",
    "f = plt.figure()\n",
    "f.set_size_inches(12,7)\n",
    "\n",
    "ax1 = f.add_subplot()\n",
    "merge_data.plot(column='PRICE', legend=True, cmap='plasma', figsize=(12,6), ax=ax1)\n",
    "\n",
    "plt.savefig('Mapping_use.png', dpi=150)"
   ]
  },
  {
   "cell_type": "code",
   "execution_count": 55,
   "metadata": {},
   "outputs": [],
   "source": [
    "###########merge our data?\n",
    "#dependent variables\n",
    "geo_y = df_new['SALE PRICE'].values.reshape((-1,1))"
   ]
  },
  {
   "cell_type": "code",
   "execution_count": 56,
   "metadata": {},
   "outputs": [],
   "source": [
    "#independent variables\n",
    "geo_X = df_new[['RESIDENTIAL UNITS','COMMERCIAL UNITS','GROSS SQUARE FEET','YEAR BUILT']].values"
   ]
  },
  {
   "cell_type": "code",
   "execution_count": 57,
   "metadata": {},
   "outputs": [
    {
     "name": "stdout",
     "output_type": "stream",
     "text": [
      "<class 'pandas.core.frame.DataFrame'>\n",
      "Int64Index: 175 entries, 0 to 174\n",
      "Data columns (total 10 columns):\n",
      " #   Column             Non-Null Count  Dtype  \n",
      "---  ------             --------------  -----  \n",
      " 0   ZIPCODE            175 non-null    int64  \n",
      " 1   TOTAL UNITS        175 non-null    float64\n",
      " 2   LAND SQUARE FEET   175 non-null    float64\n",
      " 3   GROSS SQUARE FEET  175 non-null    float64\n",
      " 4   YEAR BUILT         175 non-null    float64\n",
      " 5   RESIDENTIAL UNITS  175 non-null    float64\n",
      " 6   COMMERCIAL UNITS   175 non-null    float64\n",
      " 7   LATITUDE           175 non-null    float64\n",
      " 8   LONGITUDE          175 non-null    float64\n",
      " 9   SALE PRICE         175 non-null    float64\n",
      "dtypes: float64(9), int64(1)\n",
      "memory usage: 15.0 KB\n"
     ]
    }
   ],
   "source": [
    "df_new.info()"
   ]
  },
  {
   "cell_type": "code",
   "execution_count": 58,
   "metadata": {},
   "outputs": [
    {
     "name": "stdout",
     "output_type": "stream",
     "text": [
      "<class 'geopandas.geodataframe.GeoDataFrame'>\n",
      "Int64Index: 263 entries, 0 to 262\n",
      "Data columns (total 13 columns):\n",
      " #   Column      Non-Null Count  Dtype   \n",
      "---  ------      --------------  -----   \n",
      " 0   ZIPCODE     263 non-null    object  \n",
      " 1   BLDGZIP     263 non-null    object  \n",
      " 2   PO_NAME     263 non-null    object  \n",
      " 3   POPULATION  263 non-null    float64 \n",
      " 4   AREA        263 non-null    float64 \n",
      " 5   STATE       263 non-null    object  \n",
      " 6   COUNTY      263 non-null    object  \n",
      " 7   ST_FIPS     263 non-null    object  \n",
      " 8   CTY_FIPS    263 non-null    object  \n",
      " 9   URL         263 non-null    object  \n",
      " 10  SHAPE_AREA  263 non-null    float64 \n",
      " 11  SHAPE_LEN   263 non-null    float64 \n",
      " 12  geometry    263 non-null    geometry\n",
      "dtypes: float64(4), geometry(1), object(8)\n",
      "memory usage: 28.8+ KB\n"
     ]
    }
   ],
   "source": [
    "gdf_raw.info()"
   ]
  },
  {
   "cell_type": "code",
   "execution_count": 59,
   "metadata": {},
   "outputs": [],
   "source": [
    "####add up the coordinates. \n",
    "u = df_new['LONGITUDE']\n",
    "v = df_new['LATITUDE']\n",
    "g_coords = list(zip(u,v))"
   ]
  },
  {
   "cell_type": "code",
   "execution_count": 60,
   "metadata": {},
   "outputs": [],
   "source": [
    "#Standardlization our dataset\n",
    "geo_X = (geo_X - geo_X.mean(axis=0)) / geo_X.std(axis=0)\n",
    "geo_y = geo_y.reshape((-1,1))\n",
    "geo_y = (geo_y - geo_y.mean(axis=0)) / geo_y.std(axis=0)"
   ]
  },
  {
   "cell_type": "code",
   "execution_count": 61,
   "metadata": {},
   "outputs": [],
   "source": [
    "gwr_selector = Sel_BW(g_coords, geo_y, geo_X)"
   ]
  },
  {
   "cell_type": "code",
   "execution_count": 62,
   "metadata": {},
   "outputs": [],
   "source": [
    "gwr_bw = gwr_selector.search(search_method='golden_section',criterion='AICc')"
   ]
  },
  {
   "cell_type": "code",
   "execution_count": 63,
   "metadata": {},
   "outputs": [],
   "source": [
    "gwr_results = GWR(g_coords, geo_y, geo_X, gwr_bw, fixed=False, kernel='bisquare', constant=True, spherical=True).fit()"
   ]
  },
  {
   "cell_type": "code",
   "execution_count": 64,
   "metadata": {},
   "outputs": [
    {
     "name": "stdout",
     "output_type": "stream",
     "text": [
      "===========================================================================\n",
      "Model type                                                         Gaussian\n",
      "Number of observations:                                                 175\n",
      "Number of covariates:                                                     5\n",
      "\n",
      "Global Regression Results\n",
      "---------------------------------------------------------------------------\n",
      "Residual sum of squares:                                            119.915\n",
      "Log-likelihood:                                                    -215.239\n",
      "AIC:                                                                440.477\n",
      "AICc:                                                               442.977\n",
      "BIC:                                                               -758.099\n",
      "R2:                                                                   0.315\n",
      "Adj. R2:                                                              0.299\n",
      "\n",
      "Variable                              Est.         SE  t(Est/SE)    p-value\n",
      "------------------------------- ---------- ---------- ---------- ----------\n",
      "X0                                  -0.000      0.063     -0.000      1.000\n",
      "X1                                  -0.086      0.066     -1.309      0.191\n",
      "X2                                  -0.051      0.071     -0.717      0.474\n",
      "X3                                   0.598      0.074      8.137      0.000\n",
      "X4                                  -0.053      0.064     -0.831      0.406\n",
      "\n",
      "Geographically Weighted Regression (GWR) Results\n",
      "---------------------------------------------------------------------------\n",
      "Spatial kernel:                                           Adaptive bisquare\n",
      "Bandwidth used:                                                      78.000\n",
      "\n",
      "Diagnostic information\n",
      "---------------------------------------------------------------------------\n",
      "Residual sum of squares:                                             61.710\n",
      "Effective number of parameters (trace(S)):                           18.259\n",
      "Degree of freedom (n - trace(S)):                                   156.741\n",
      "Sigma estimate:                                                       0.627\n",
      "Log-likelihood:                                                    -157.110\n",
      "AIC:                                                                352.739\n",
      "AICc:                                                               357.782\n",
      "BIC:                                                                413.690\n",
      "R2:                                                                   0.647\n",
      "Adjusted R2:                                                          0.606\n",
      "Adj. alpha (95%):                                                     0.014\n",
      "Adj. critical t value (95%):                                          2.491\n",
      "\n",
      "Summary Statistics For GWR Parameter Estimates\n",
      "---------------------------------------------------------------------------\n",
      "Variable                   Mean        STD        Min     Median        Max\n",
      "-------------------- ---------- ---------- ---------- ---------- ----------\n",
      "X0                        0.158      0.297     -0.239      0.136      0.807\n",
      "X1                       -0.011      0.401     -1.479     -0.048      1.543\n",
      "X2                        0.439      0.630     -0.370      0.055      1.735\n",
      "X3                        0.732      0.913      0.008      0.432      5.541\n",
      "X4                        0.061      0.157     -0.143      0.013      0.456\n",
      "===========================================================================\n",
      "\n"
     ]
    }
   ],
   "source": [
    "gwr_results.summary()"
   ]
  },
  {
   "cell_type": "code",
   "execution_count": null,
   "metadata": {},
   "outputs": [],
   "source": []
  },
  {
   "cell_type": "markdown",
   "metadata": {},
   "source": [
    "<font size = 5>Linear SVR \n",
    "</font>"
   ]
  },
  {
   "cell_type": "code",
   "execution_count": 66,
   "metadata": {},
   "outputs": [],
   "source": [
    "#######first find out the input and our target. \n",
    "#######recall that:\n",
    "from sklearn.svm import LinearSVC, LinearSVR,SVC,SVR\n",
    "from sklearn import svm\n",
    "from sklearn.svm import LinearSVR\n",
    "from sklearn.pipeline import make_pipeline\n",
    "from sklearn.preprocessing import StandardScaler\n",
    "from sklearn.datasets import make_regression\n",
    "from sklearn import metrics\n",
    "x = pd.read_csv('mean_hp.csv',usecols = [3,4,5,6])\n",
    "y = pd.read_csv('mean_hp.csv',usecols = [9])"
   ]
  },
  {
   "cell_type": "code",
   "execution_count": 67,
   "metadata": {},
   "outputs": [],
   "source": [
    "x = pd.read_csv('mean_hp.csv',usecols = [3,4,5,6])\n",
    "y = pd.read_csv('mean_hp.csv',usecols = [9])"
   ]
  },
  {
   "cell_type": "code",
   "execution_count": 68,
   "metadata": {},
   "outputs": [],
   "source": [
    "# split the input and target\n",
    "#df_svr = pd.read_csv('price_fixed.csv',usecols = [1,2,3,4,5,6,9])\n",
    "#idx = list(df_svr.index)\n",
    "#x_train = x.loc[idx[:train_len]]\n",
    "#y_train = y.loc[idx[:train_len]]\n",
    "#x_test = x.loc[idx[train_len:train_len+test_len]]\n",
    "#y_test = y.loc[idx[train_len:train_len+test_len]]"
   ]
  },
  {
   "cell_type": "code",
   "execution_count": 69,
   "metadata": {},
   "outputs": [
    {
     "name": "stderr",
     "output_type": "stream",
     "text": [
      "/opt/conda/envs/sds2020/lib/python3.7/site-packages/sklearn/utils/validation.py:72: DataConversionWarning: A column-vector y was passed when a 1d array was expected. Please change the shape of y to (n_samples, ), for example using ravel().\n",
      "  return f(**kwargs)\n",
      "/opt/conda/envs/sds2020/lib/python3.7/site-packages/sklearn/svm/_base.py:977: ConvergenceWarning: Liblinear failed to converge, increase the number of iterations.\n",
      "  \"the number of iterations.\", ConvergenceWarning)\n"
     ]
    },
    {
     "data": {
      "text/plain": [
       "LinearSVR(random_state=0)"
      ]
     },
     "execution_count": 69,
     "metadata": {},
     "output_type": "execute_result"
    }
   ],
   "source": [
    "#################model construction--linear SVC\n",
    "svr = svm.LinearSVR(random_state = 0)\n",
    "svr.fit(x,y)"
   ]
  },
  {
   "cell_type": "code",
   "execution_count": 70,
   "metadata": {},
   "outputs": [],
   "source": [
    "y_pred3 = svr.predict(x)"
   ]
  },
  {
   "cell_type": "code",
   "execution_count": 71,
   "metadata": {},
   "outputs": [
    {
     "data": {
      "text/plain": [
       "0.24850509885969785"
      ]
     },
     "execution_count": 71,
     "metadata": {},
     "output_type": "execute_result"
    }
   ],
   "source": [
    "#######find the linear SVR score--R^2\n",
    "svr.score(x, y)"
   ]
  },
  {
   "cell_type": "code",
   "execution_count": null,
   "metadata": {},
   "outputs": [],
   "source": []
  },
  {
   "cell_type": "markdown",
   "metadata": {},
   "source": [
    "### appendix "
   ]
  },
  {
   "cell_type": "code",
   "execution_count": 72,
   "metadata": {},
   "outputs": [],
   "source": [
    "###data description"
   ]
  },
  {
   "cell_type": "code",
   "execution_count": 73,
   "metadata": {},
   "outputs": [
    {
     "data": {
      "text/html": [
       "<div>\n",
       "<style scoped>\n",
       "    .dataframe tbody tr th:only-of-type {\n",
       "        vertical-align: middle;\n",
       "    }\n",
       "\n",
       "    .dataframe tbody tr th {\n",
       "        vertical-align: top;\n",
       "    }\n",
       "\n",
       "    .dataframe thead th {\n",
       "        text-align: right;\n",
       "    }\n",
       "</style>\n",
       "<table border=\"1\" class=\"dataframe\">\n",
       "  <thead>\n",
       "    <tr style=\"text-align: right;\">\n",
       "      <th></th>\n",
       "      <th>ZIPCODE</th>\n",
       "      <th>TOTAL UNITS</th>\n",
       "      <th>LAND SQUARE FEET</th>\n",
       "      <th>GROSS SQUARE FEET</th>\n",
       "      <th>YEAR BUILT</th>\n",
       "      <th>RESIDENTIAL UNITS</th>\n",
       "      <th>COMMERCIAL UNITS</th>\n",
       "      <th>LATITUDE</th>\n",
       "      <th>LONGITUDE</th>\n",
       "      <th>SALE PRICE</th>\n",
       "    </tr>\n",
       "  </thead>\n",
       "  <tbody>\n",
       "    <tr>\n",
       "      <th>count</th>\n",
       "      <td>175.000000</td>\n",
       "      <td>175.000000</td>\n",
       "      <td>1.750000e+02</td>\n",
       "      <td>175.000000</td>\n",
       "      <td>175.000000</td>\n",
       "      <td>175.000000</td>\n",
       "      <td>175.000000</td>\n",
       "      <td>175.000000</td>\n",
       "      <td>175.000000</td>\n",
       "      <td>1.750000e+02</td>\n",
       "    </tr>\n",
       "    <tr>\n",
       "      <th>mean</th>\n",
       "      <td>10818.662857</td>\n",
       "      <td>7.358457</td>\n",
       "      <td>1.533537e+04</td>\n",
       "      <td>19487.246629</td>\n",
       "      <td>1936.829257</td>\n",
       "      <td>6.095714</td>\n",
       "      <td>1.263257</td>\n",
       "      <td>40.722683</td>\n",
       "      <td>-73.914457</td>\n",
       "      <td>5.779200e+06</td>\n",
       "    </tr>\n",
       "    <tr>\n",
       "      <th>std</th>\n",
       "      <td>573.131422</td>\n",
       "      <td>19.494177</td>\n",
       "      <td>1.318778e+05</td>\n",
       "      <td>69835.283235</td>\n",
       "      <td>18.116434</td>\n",
       "      <td>18.567385</td>\n",
       "      <td>5.636247</td>\n",
       "      <td>0.098809</td>\n",
       "      <td>0.101662</td>\n",
       "      <td>1.436443e+07</td>\n",
       "    </tr>\n",
       "    <tr>\n",
       "      <th>min</th>\n",
       "      <td>10001.000000</td>\n",
       "      <td>1.000000</td>\n",
       "      <td>1.602000e+03</td>\n",
       "      <td>1303.540000</td>\n",
       "      <td>1902.510000</td>\n",
       "      <td>0.000000</td>\n",
       "      <td>0.000000</td>\n",
       "      <td>40.010000</td>\n",
       "      <td>-74.240000</td>\n",
       "      <td>4.771840e+05</td>\n",
       "    </tr>\n",
       "    <tr>\n",
       "      <th>25%</th>\n",
       "      <td>10303.500000</td>\n",
       "      <td>1.525000</td>\n",
       "      <td>2.860465e+03</td>\n",
       "      <td>2051.120000</td>\n",
       "      <td>1924.225000</td>\n",
       "      <td>1.360000</td>\n",
       "      <td>0.060000</td>\n",
       "      <td>40.675000</td>\n",
       "      <td>-73.980000</td>\n",
       "      <td>7.956630e+05</td>\n",
       "    </tr>\n",
       "    <tr>\n",
       "      <th>50%</th>\n",
       "      <td>11201.000000</td>\n",
       "      <td>2.550000</td>\n",
       "      <td>3.530230e+03</td>\n",
       "      <td>3228.330000</td>\n",
       "      <td>1935.960000</td>\n",
       "      <td>2.170000</td>\n",
       "      <td>0.160000</td>\n",
       "      <td>40.730000</td>\n",
       "      <td>-73.920000</td>\n",
       "      <td>1.377860e+06</td>\n",
       "    </tr>\n",
       "    <tr>\n",
       "      <th>75%</th>\n",
       "      <td>11360.500000</td>\n",
       "      <td>5.620000</td>\n",
       "      <td>4.687335e+03</td>\n",
       "      <td>8567.985000</td>\n",
       "      <td>1945.440000</td>\n",
       "      <td>4.255000</td>\n",
       "      <td>0.580000</td>\n",
       "      <td>40.780000</td>\n",
       "      <td>-73.840000</td>\n",
       "      <td>3.466397e+06</td>\n",
       "    </tr>\n",
       "    <tr>\n",
       "      <th>max</th>\n",
       "      <td>11694.000000</td>\n",
       "      <td>229.730000</td>\n",
       "      <td>1.743118e+06</td>\n",
       "      <td>615108.670000</td>\n",
       "      <td>2016.200000</td>\n",
       "      <td>229.370000</td>\n",
       "      <td>66.610000</td>\n",
       "      <td>40.900000</td>\n",
       "      <td>-73.710000</td>\n",
       "      <td>1.128500e+08</td>\n",
       "    </tr>\n",
       "  </tbody>\n",
       "</table>\n",
       "</div>"
      ],
      "text/plain": [
       "            ZIPCODE  TOTAL UNITS  LAND SQUARE FEET  GROSS SQUARE FEET  \\\n",
       "count    175.000000   175.000000      1.750000e+02         175.000000   \n",
       "mean   10818.662857     7.358457      1.533537e+04       19487.246629   \n",
       "std      573.131422    19.494177      1.318778e+05       69835.283235   \n",
       "min    10001.000000     1.000000      1.602000e+03        1303.540000   \n",
       "25%    10303.500000     1.525000      2.860465e+03        2051.120000   \n",
       "50%    11201.000000     2.550000      3.530230e+03        3228.330000   \n",
       "75%    11360.500000     5.620000      4.687335e+03        8567.985000   \n",
       "max    11694.000000   229.730000      1.743118e+06      615108.670000   \n",
       "\n",
       "        YEAR BUILT  RESIDENTIAL UNITS  COMMERCIAL UNITS    LATITUDE  \\\n",
       "count   175.000000         175.000000        175.000000  175.000000   \n",
       "mean   1936.829257           6.095714          1.263257   40.722683   \n",
       "std      18.116434          18.567385          5.636247    0.098809   \n",
       "min    1902.510000           0.000000          0.000000   40.010000   \n",
       "25%    1924.225000           1.360000          0.060000   40.675000   \n",
       "50%    1935.960000           2.170000          0.160000   40.730000   \n",
       "75%    1945.440000           4.255000          0.580000   40.780000   \n",
       "max    2016.200000         229.370000         66.610000   40.900000   \n",
       "\n",
       "        LONGITUDE    SALE PRICE  \n",
       "count  175.000000  1.750000e+02  \n",
       "mean   -73.914457  5.779200e+06  \n",
       "std      0.101662  1.436443e+07  \n",
       "min    -74.240000  4.771840e+05  \n",
       "25%    -73.980000  7.956630e+05  \n",
       "50%    -73.920000  1.377860e+06  \n",
       "75%    -73.840000  3.466397e+06  \n",
       "max    -73.710000  1.128500e+08  "
      ]
     },
     "execution_count": 73,
     "metadata": {},
     "output_type": "execute_result"
    }
   ],
   "source": [
    "df_new.describe()"
   ]
  },
  {
   "cell_type": "code",
   "execution_count": 74,
   "metadata": {},
   "outputs": [
    {
     "name": "stdout",
     "output_type": "stream",
     "text": [
      "<class 'pandas.core.frame.DataFrame'>\n",
      "Int64Index: 175 entries, 0 to 174\n",
      "Data columns (total 10 columns):\n",
      " #   Column             Non-Null Count  Dtype  \n",
      "---  ------             --------------  -----  \n",
      " 0   ZIPCODE            175 non-null    int64  \n",
      " 1   TOTAL UNITS        175 non-null    float64\n",
      " 2   LAND SQUARE FEET   175 non-null    float64\n",
      " 3   GROSS SQUARE FEET  175 non-null    float64\n",
      " 4   YEAR BUILT         175 non-null    float64\n",
      " 5   RESIDENTIAL UNITS  175 non-null    float64\n",
      " 6   COMMERCIAL UNITS   175 non-null    float64\n",
      " 7   LATITUDE           175 non-null    float64\n",
      " 8   LONGITUDE          175 non-null    float64\n",
      " 9   SALE PRICE         175 non-null    float64\n",
      "dtypes: float64(9), int64(1)\n",
      "memory usage: 15.0 KB\n"
     ]
    }
   ],
   "source": [
    "df_new.info()"
   ]
  },
  {
   "cell_type": "code",
   "execution_count": 75,
   "metadata": {},
   "outputs": [
    {
     "name": "stderr",
     "output_type": "stream",
     "text": [
      "/opt/conda/envs/sds2020/lib/python3.7/site-packages/seaborn/distributions.py:2551: FutureWarning: `distplot` is a deprecated function and will be removed in a future version. Please adapt your code to use either `displot` (a figure-level function with similar flexibility) or `histplot` (an axes-level function for histograms).\n",
      "  warnings.warn(msg, FutureWarning)\n"
     ]
    },
    {
     "data": {
      "image/png": "[encoded data removed]",
      "text/plain": [
       "<Figure size 432x288 with 1 Axes>"
      ]
     },
     "metadata": {
      "needs_background": "light"
     },
     "output_type": "display_data"
    }
   ],
   "source": [
    "##############data distribution plot\n",
    "#######scatter plot here to observce the distribution\n",
    "#######\n",
    "##df_new is our data to explore. \n",
    "cols = ['PRICE']\n",
    "use = merge_data[cols].dropna()\n",
    "pl_1 = sns.distplot(merge_data['PRICE'])"
   ]
  },
  {
   "cell_type": "code",
   "execution_count": null,
   "metadata": {},
   "outputs": [],
   "source": []
  },
  {
   "cell_type": "code",
   "execution_count": null,
   "metadata": {},
   "outputs": [],
   "source": []
  },
  {
   "cell_type": "code",
   "execution_count": null,
   "metadata": {},
   "outputs": [],
   "source": []
  }
 ],
 "metadata": {
  "kernelspec": {
   "display_name": "Python 3",
   "language": "python",
   "name": "python3"
  },
  "language_info": {
   "codemirror_mode": {
    "name": "ipython",
    "version": 3
   },
   "file_extension": ".py",
   "mimetype": "text/x-python",
   "name": "python",
   "nbconvert_exporter": "python",
   "pygments_lexer": "ipython3",
   "version": "3.7.8"
  }
 },
 "nbformat": 4,
 "nbformat_minor": 4
}
